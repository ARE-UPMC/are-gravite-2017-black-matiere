{
 "cells": [
  {
   "cell_type": "markdown",
   "metadata": {},
   "source": [
    "# La Voie lactée et la matière noire:\n",
    "\n",
    "- Madin Sabrine\n",
    "- Kusmider Sara\n",
    "- Daupley Jules\n",
    "- Ghermaoui Younes\n",
    "- Bouvet Camille\n",
    "\n",
    "## Séance 1: 1 mars 2017:\n",
    "Lors de cette première séance, nous avons tenté de nous familiariser avec le sujet, en définissant la radioastronomie, l'effet Doppler et la spectroscopie, des termes clés de notre projet. Nous avons réalisé l'inscription sur le site http://fr.euhou.net/ qui nous permettra d'accéder aux observations du télescope. Nous avons visionné chaque vidéo de kinesthésie de notre groupe, afin de déterminer celles qui concernent notre sujet, utiles pour la réalisation du podcast. A l'issue de cette première séance, nous avions des difficultés à savoir concrètement dans quelle direction mener nos recherches et se répartir les tâches.\n",
    "\n",
    "#### Objectifs à l'issue de la première séance:\n",
    "- Réserver un créneau d'observation sur les télescopes (français ou polonais de 3m)\n",
    "- en python: tenter de modéliser les observations réalisées sur euhou d'abord sur des orbites circulaires (simplifiées) et contraster avec la réalité.\n",
    "- Commencer le podcast avec les vidéos de kinésthésie.\n",
    "- Situer le cadre du projet (\"compréhension\") et méthode de détection\n",
    "\n",
    "2/03/2017: Sara: introduction radioastronomie et effet Doppler.\n",
    "\n",
    "\n",
    "## Séance 2: 8 mars 2017:\n",
    "\n",
    "Lors de cette seconde séance nous avons mis en commun nos idées de programmes informatiques à réaliser, la méthode et les algorithmes à utiliser. Nous avons aussi déterminé la problématique de notre projet. En effet, nous avons décidé d'axer notre projet sur le contraste entre les vitesses théoriques et réelles des nuages de gaz impliquant l'existence de matière noire. Nous avons alors un lien entre notre Galaxie: la Voie Lactée et la matière noire qui oriente nos recherches, notre rapport doit donc parvenir à proposer des réponses aux interrogations suivantes:\n",
    "\n",
    "- Quels problèmes se posent dans la Galaxie? \n",
    "- Localisation de la plus grande partie de la masse ?\n",
    "- Contestation de la masse principale au centre ?    \n",
    "- Vitesses orbitales des étoiles théories/observations\n",
    "                       \n",
    "Nous avons alors réservé un créneau pour l'utilisation du téléscope et analysé chaque formule du polycopié en ligne afin de commencer les calculs. A l'issue de l'étude du polycopié, nous avons commencé l'étude des vitesses des nuages de gaz grâce au simulateur en ligne. A la fin de la séance, nous avions donc pour objectifs de modéliser une courbe de rotation de la Voie lactée, réaliser un graphe de la masse intérieure en fonction de l'éloignement du centre galactique, modéliser des mouvements de rotation sur python. Cependant pour ce dernier programme, la principale difficulté rencontrée était de réussir à construire l'algorithme nécessaire pour tenter de représenter la rotation des nuages de gaz.\n",
    "\n",
    "- Camille : Calcul de V et R de la table 2 du poly pour faire les observations au telescope, progreamme permettant de calculer automatiquement la vitesse orbitale et le rayon du nuage de gaz.\n",
    "- Sabrine Sara : modélisation cercle sur python afin d'afficher la vitesse radiale en fonction de la position du gaz avec quelques difficultés à relier les points.\n",
    "- réservation du télescope pour le mercredi 15/03 (4h)\n",
    "                       \n",
    "                    \n"
   ]
  },
  {
   "cell_type": "markdown",
   "metadata": {
    "collapsed": true
   },
   "source": [
    "## Séance 3 du 15 mars 2017:\n",
    "\n",
    "Durant la semaine, nous avons principalement construit le programme permettant de calculer les vitesses orbitales et le rayon galactique des nuages de gaz en fonction de la vitesse radiale et de la longitude. Il s'agit de la première étape nous permettant de tracer la courbe de rotation de la Voie lactée, qui constitue un document essentiel à notre projet. En effet, c'est grâce à celle-ci que nous allons pouvoir observer les variations de vitesses entre la théorie et la réalité et en déduire l'existence de la matière noire. Pour cela, pour chaque longitude du quadrant I, nous avons relevé sur les spectres simulés, qui sont de véritables données, les vitesses radiales correspondant au pic le plus à droite. Grâce à ses vitesses et à la longitude connue, nous avons pu à l'aide de notre programme déterminer la vitesse orbitale du nuage de gaz et son rayon. Nous avons ensuite tracé la courbe de rotation (vitesse orbitale en fonction du rayon galactique), dont l'analyse nous permet de déduire le paradoxe concernant la masse principale supposée au centre de la Galaxie. Nous avons tenté de modéliser les observations réalisées à l'aide de la courbe de rotation grâce au programme de la mise en orbite d'un point. Cependant, nous avons eu beaucoup de mal à poser un algorithme efficace et pertinent. En effet, nous avions comme première idée d'utiliser les données acquises avec nos observations (vitesses orbitale et rayon) mais nous n'arrivions pas à trouver un programme permettant de mettre en orbite des points en choisissant la vitesse. Nous avons tenté de réaliser nos propres spectres sur eu hou mais nous avons rencontré des problèmes de fonctionnement. Nous nous sommes donc contentés des données archivées et simulées.\n",
    "   "
   ]
  },
  {
   "cell_type": "markdown",
   "metadata": {},
   "source": [
    "- 17/03/2017: Camille et Sara: travail sur le programme de modélisation des orbites, tentative d'introduction de vitesses avec un tableau prenant en compte les vitesses acquises avec les spectres et notre fonction, sans résultat. \n",
    "- 19/03/2017:Camille avancée du Blog et tentative de modélisation les bras spiraux sans animation avec les coordonnées des points sur les cercles orbitaux.\n",
    "- 20/03/2017: Sabrine: montage du podcast avec explication de la kinésthésie et avancée sur son rpogramme d'affichage de vitesse radiale avec un point en orbite.\n",
    "\n",
    "\n",
    "## Séance 4 du 22 mars 2017:\n",
    "Toute la semaine, nous avons travaillé sur le programme visant à simuler le mouvement des nuages de gaz, déduit de notre courbe de rotation en vain. En effet, nous savions mettre en rotation un point sur son orbite, mais nous ne savions pas donner de vitesses aux points en rotation(ici elles doivent être identiques, seul le nombre de points sur l'orbite varie car le pas est le même mais le périmètre plus important). Lors de l'entretient, il nous a alors été suggéré d'associer à notre point en rotation un pas et un angle permettant de lui attribuer une vitesse. C'est donc ce que nous avons fait, et nous avons donc obtenu la modélisation que nous désirions montrant la vitesse des nuages de gaz sur des orbites plus ou moins éloignés du centre galactique. Cependant, notre simulation nécessite ensuite de relier les points entre eux pour faire apparaitre les bras spiraux. Nous avons alors tenté de définir les coordonnées(x,y)de nos points en rotation sur les orbites en fonction du temps à l'aide de fonctions, mais il était impossible d'afficher le réultat sur la simulation. En l'absence de connaissances informatiques nécesssaires à résoudre notre problème nous avons décider de modéliser les bras spiraux sans animation, simplement sur une image fixe."
   ]
  },
  {
   "cell_type": "markdown",
   "metadata": {
    "collapsed": true
   },
   "source": [
    "25/03/2017: \n",
    "- Camille : programme d'asssemblage image par image pour construire les bras spiraux, une méthode trouvée sur le site http://python.physique.free.fr/animations.html , mise à jour du blog et écriture du rapport (explications)\n",
    "- Sabrine: travail sur le programme représentant la vitesse radiale en fonction de la position du Soleil et du nuage de gaz, finalisation du programme affichant la vitesse radiale (question à poser: comment reporter l'angle alpha en python?)\n",
    "\n",
    "28/03/2017:\n",
    "- Sabrine: tracé de la courbe de rotation Newtonnienne supposée des vitesses orbitales en fonction de la distance galactique, calcul de la masse intérieur (ATTENTION, erreur quand à la vitesse introduite dan le programme).\n",
    "- Camille: Carte de la voie lactée avec relevé des positions de tous les nuages sur les spectres des longitudes comprises entre 20° et 140° ==> ERREUR avec le rayon, il faut calculer le rayon du soleil et non le rayon de nuage/centre galactique. Assemblage de toutes les fonctions dans le rapport et finalisation d'explications.\n",
    "- Jules: modification du programme sur la masse.\n",
    "\n",
    "Objectifs de la dernière séance:\n",
    "- Résoudre les derniers problèmes signalés plus haut.\n",
    "- finir les explications.\n",
    "- mise en page finale."
   ]
  },
  {
   "cell_type": "markdown",
   "metadata": {
    "collapsed": true
   },
   "source": [
    "## Séance 29 mars 2017:\n",
    "\n",
    "Lors de cette dernière séance avant de rendre le premier jet du rapport final, nous avons donc finalisé nos programmes. Sara et Sabrine ont calculé les coordonnées du point d'intersection de la ligne de visée et de la perpendiculaire à la ligne de visée passant par le centre Galactique. Elles ont ensuite réussi à reporter l'angle compris entre la perpendiculaire évoquée précédemment et le rayon centre Galactique et nuage de gaz. Nous avons donc réussi à tracer la direction de la vitesse radiale. Pendant les vacances, sachant que nous savons calculer la valeur de la Vitesse radiale en un point donné, nous allons pouvoir tenter de tracer le vecteur vitesse radiale. Jules a relevé les valeurs de chaque pic présent sur les spectres du simulateur toutes les 10 longitudes afin de tracer la fin de la carte de la Galaxie commencée par Camille. Camille a modifié le programme permettant finalement d'avoir le rayon du nuage de gaz par rapport au centre du Soleil et commencé à annoter les graphiques en ajoutant légendes et titres.\n",
    "\n",
    "## Objectifs des vacances:\n",
    "- Finir toute la rédaction avec plus d'explications.\n",
    "- Carte de la Galaxie à partir du centre Galactique avec simple modification des données.\n",
    "- Finir l'anotation des graphiques\n",
    "- Réussir à afficher les vitesses radiales sur l'animation.\n",
    "\n"
   ]
  },
  {
   "cell_type": "markdown",
   "metadata": {
    "collapsed": true
   },
   "source": [
    "- 7/04/2017: Camille rédaction de tout le rapport\n",
    "- 10/04/2017: Camille Tracé de la courbe de la masse de la Galaxie, et fin de la rédaction du rapport.\n",
    "- 20/04/2017: Camille et Sabrine modélisation des disques sphériques représentant la répartition de la masse dans la Galaxie.\n",
    "- 25/04/2017: \n",
    "    - Mise en forme du rapport par Camille et relecture par Sara.\n",
    "    - Sabrine finalisation du podcast.\n"
   ]
  },
  {
   "cell_type": "code",
   "execution_count": null,
   "metadata": {
    "collapsed": true
   },
   "outputs": [],
   "source": []
  }
 ],
 "metadata": {
  "kernelspec": {
   "display_name": "Python 3",
   "language": "python",
   "name": "python3"
  },
  "language_info": {
   "codemirror_mode": {
    "name": "ipython",
    "version": 3
   },
   "file_extension": ".py",
   "mimetype": "text/x-python",
   "name": "python",
   "nbconvert_exporter": "python",
   "pygments_lexer": "ipython3",
   "version": "3.4.1"
  }
 },
 "nbformat": 4,
 "nbformat_minor": 0
}
