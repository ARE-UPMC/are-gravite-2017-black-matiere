{
 "cells": [
  {
   "cell_type": "markdown",
   "metadata": {},
   "source": [
    "# La Voie lactée et la matière noire:\n",
    "- Madin Sabrine\n",
    "- Kusmider Sara\n",
    "- Daupley Jules\n",
    "- Ghermaoui Younes\n",
    "- Bouvet Camille\n",
    "\n",
    "### Séance 1: 1 mars 2017\n",
    "- Inscription sur le site http://fr.euhou.net/ pour accéder aux données et observations\n",
    "- Entretien avec les professeurs.\n",
    "\n",
    "#### Ce qu'il faut faire:\n",
    "- réserver un créneau d'observation sur les télescopes (français ou polonais de 3m)\n",
    "- en python: tenter de modéliser les observations réalisées sur euhou d'abord sur des orbites circulaires (simplifiées) et contraster avec la réalité.\n",
    "- commencer le podcast avec les vidéos de kinésthésie.\n",
    "- Situer le cadre du projet (\"compréhension\") et méthode de détection\n",
    "\n",
    "#### Quelles vidéos concernent notre sujet ? Quelle analyse peut on en faire ?\n",
    "On peut utiliser les vidéos où on modélise l'avancée des nuages de gaz par rapport au repère de la galaxie.\n",
    "\n",
    "#### Rapport:\n",
    "- partie sur la matière noire + potentielles courbes de rotation des planètes\n",
    "\n",
    "\n",
    "### Séance 2: 8 mars 2017:\n",
    "Plan du rapport:\n",
    "I-Description de la matière noire et de la Voie lactée:\n",
    "        - caractéristiques\n",
    "        - découverte\n",
    "        - étude\n",
    "        -espace temps\n",
    "--> Python modélisation de la matière noire\n",
    "      \n",
    "II- Pourquoi a-t-on besoin de son existence? (différences entre observations et théorie, detection)-->TUTO\n",
    "       - quels problèmes se posent dans la galaxie? \n",
    "                   -localisation de la plus grande partie de la masse\n",
    "                   -Mouvements des planètes:\n",
    "                   -orbite et masse à l'intérieur de son orbite \n",
    "                       --> graphe des masses à l'intérieur en fonction de l'éloignement du centre de la galaxie)\n",
    "                   -théorie des vitesses orbitales objets proches du centre et celles des objets éloignés\n",
    "                       --> courbe de rotation théorique\n",
    "                   - mouvements des étoiles:\n",
    "                   -quantité de lumière/quantité de masse de la galaxie\n",
    "                   -vitesses orbitales des étoiles théories/observations\n",
    "                       --> courbe de rotation \n",
    "                   - contestation de la masse principale au centre ?\n",
    "                   -observations téléscope+analyse\n",
    "               \n",
    "III- alternative à la matière noire ? \n",
    "       \n",
    "   \n",
    "                       \n",
    "                    \n"
   ]
  },
  {
   "cell_type": "code",
   "execution_count": null,
   "metadata": {
    "collapsed": true
   },
   "outputs": [],
   "source": []
  }
 ],
 "metadata": {
  "kernelspec": {
   "display_name": "Python 3",
   "language": "python",
   "name": "python3"
  },
  "language_info": {
   "codemirror_mode": {
    "name": "ipython",
    "version": 3
   },
   "file_extension": ".py",
   "mimetype": "text/x-python",
   "name": "python",
   "nbconvert_exporter": "python",
   "pygments_lexer": "ipython3",
   "version": "3.4.1"
  }
 },
 "nbformat": 4,
 "nbformat_minor": 0
}
