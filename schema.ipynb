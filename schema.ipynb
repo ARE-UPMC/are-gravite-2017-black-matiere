{
 "cells": [
  {
   "cell_type": "code",
   "execution_count": 3,
   "metadata": {
    "collapsed": false
   },
   "outputs": [],
   "source": [
    "import numpy as np\n",
    "from __future__ import division\n",
    "from scipy import*\n",
    "from pylab import*\n",
    "import os\n",
    "import matplotlib.pyplot as plt\n",
    "import matplotlib.animation as animation\n",
    "\n",
    "\n",
    "\n",
    "#methode 2 pour faire des cercles: \n",
    "\n",
    "def cercle2 (rayon):\n",
    "    R=rayon\n",
    "    alpha=0\n",
    "    dalpha=0.01\n",
    "    while alpha<2*np.pi:\n",
    "        alpha=alpha+dalpha\n",
    "        X=R*cos(alpha)\n",
    "        Y=R*sin(alpha)\n",
    "        plot(X,Y, 'co',)\n",
    "        \n",
    "plt.show()\n",
    "plt.axis(\"equal\")\n",
    "\n",
    "#cercle2(5)\n",
    "\n",
    "def cercle(r):\n",
    "    theta=np.linspace(0,2*np.pi,40)\n",
    "    R=r\n",
    "    x=R*cos(theta)\n",
    "    y=R*sin(theta)\n",
    "    plt.plot(x,y)\n",
    "    plt.axis(\"equal\")\n",
    "    plt.show()\n",
    "    \n",
    "def twocircles(r1,r2):\n",
    "    c1=cercle(r1) \n",
    "    c2=cercle(r2)\n",
    "    plt.axis(\"equal\")\n",
    "    plt.plot(c1,c2)\n",
    "    plt.show()\n",
    "    \n",
    "\n",
    "#methode 1 pour faire des cercles : \n",
    "def schema(r1,r2):\n",
    "    theta=np.linspace(0,2*np.pi,40)\n",
    "    x1=r1*cos(theta)\n",
    "    y1=r1*sin(theta)\n",
    "    x2=r2*cos(theta)\n",
    "    y2=r2*sin(theta)\n",
    "    c1=(x1,y1)\n",
    "    c2=(x2,y2)\n",
    "    plt.plot(x1,y1)\n",
    "    plt.plot(x2,y2)\n",
    "    plt.axis(\"equal\")\n",
    "    o = [0.,0.]\n",
    "    p1=[0.,r1]\n",
    "    p2=[0.,r2]\n",
    "    plt.plot(o ,p1 ,color='r', linestyle='-',marker='o')\n",
    "    plt.plot(o ,p2,color='y', linestyle='-',marker='o')\n",
    "    plt.plot(p1 ,p2 ,color='b', linestyle='--',marker='o')\n",
    "    plt.show()\n",
    "    \n",
    "    \n",
    "schema(5,2.5)\n",
    "#twocircles(5,2)\n"
   ]
  },
  {
   "cell_type": "code",
   "execution_count": null,
   "metadata": {
    "collapsed": false
   },
   "outputs": [],
   "source": []
  },
  {
   "cell_type": "code",
   "execution_count": null,
   "metadata": {
    "collapsed": false
   },
   "outputs": [],
   "source": []
  },
  {
   "cell_type": "code",
   "execution_count": null,
   "metadata": {
    "collapsed": false
   },
   "outputs": [],
   "source": [
    "\n"
   ]
  },
  {
   "cell_type": "code",
   "execution_count": null,
   "metadata": {
    "collapsed": true
   },
   "outputs": [],
   "source": []
  }
 ],
 "metadata": {
  "kernelspec": {
   "display_name": "Python 3",
   "language": "python",
   "name": "python3"
  },
  "language_info": {
   "codemirror_mode": {
    "name": "ipython",
    "version": 3
   },
   "file_extension": ".py",
   "mimetype": "text/x-python",
   "name": "python",
   "nbconvert_exporter": "python",
   "pygments_lexer": "ipython3",
   "version": "3.4.1"
  }
 },
 "nbformat": 4,
 "nbformat_minor": 0
}
