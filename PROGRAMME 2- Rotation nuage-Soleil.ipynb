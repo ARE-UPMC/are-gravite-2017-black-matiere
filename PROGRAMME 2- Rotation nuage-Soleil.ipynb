{
 "cells": [
  {
   "cell_type": "code",
   "execution_count": 3,
   "metadata": {
    "collapsed": false
   },
   "outputs": [],
   "source": [
    "#Rotation du nuage de gaz et du Soleil par rapport au centre galactique.\n",
    "from matplotlib import animation\n",
    "from pylab import *\n",
    "import numpy as np\n",
    "import matplotlib.pyplot as plt \n",
    "from __future__ import division\n",
    "from scipy import *           \n",
    "import os\n",
    "\n",
    "def cercle (rayon,pas):\n",
    "    R=rayon\n",
    "    alpha=0\n",
    "    delta=pas\n",
    "    while alpha<2*np.pi:\n",
    "        alpha=alpha+delta\n",
    "        X=R*cos(alpha)\n",
    "        Y=R*sin(alpha)\n",
    "        plot(X,Y, 'co',)\n",
    "          \n",
    "\n",
    "def deuxcercles(r1,pas1,r2,pas2):\n",
    "    C1=cercle(r1,pas1)\n",
    "    plt.axis(\"equal\")\n",
    "    plt.plot(C1)\n",
    "    C2=cercle(r2,pas2)\n",
    "    plt.axis(\"equal\")\n",
    "    plt.plot(C2)\n",
    "    plt.plot(0,0,'ro')\n",
    "\n",
    "fig = plt.figure() \n",
    "fig.set_dpi(100) \n",
    "fig.set_size_inches(7, 6.5) \n",
    "ax = plt.axes(xlim=(-10, 10), ylim=(-10, 10))\n",
    " \n",
    "size = 0.3\n",
    "xcenter = 0\n",
    "ycenter = 0\n",
    "radius1 = 4.25\n",
    "radius2= 8.5\n",
    " \n",
    "patch1 = plt.Circle((0,0), size, fc='y') \n",
    "patch2 = plt.Circle((0,0), size, fc='r') \n",
    "\n",
    "def init(): \n",
    "    ax.add_patch(patch1)\n",
    "    ax.add_patch(patch2)\n",
    "    return patch1, patch2 \n",
    "\n",
    "def animate(t): \n",
    "    x1, y1 = patch1.center \n",
    "    x1 = xcenter + radius1 * np.sin((t*np.pi/12))\n",
    "    y1 = ycenter + radius1 * np.cos((t*np.pi/12))\n",
    "    patch1.center = (x1, y1)\n",
    "    x2, y2 = patch2.center \n",
    "    x2 = xcenter + radius2 * np.sin((t*np.pi/24))\n",
    "    y2 = ycenter + radius2 * np.cos((t*np.pi/24))\n",
    "    patch2.center = (x2, y2)\n",
    "    return patch1, patch2\n",
    " \n",
    "anim = animation.FuncAnimation(fig, animate,  \n",
    "                               init_func=init,  \n",
    "                               frames=1000,  \n",
    "                               interval=20, \n",
    "                               blit=True) \n",
    " \n",
    "\n",
    "\n",
    "deuxcercles(4.25,np.pi/12,8.5,np.pi/24)\n",
    "plt.axis(\"equal\")\n",
    "plt.show()\n"
   ]
  },
  {
   "cell_type": "code",
   "execution_count": null,
   "metadata": {
    "collapsed": true
   },
   "outputs": [],
   "source": []
  }
 ],
 "metadata": {
  "kernelspec": {
   "display_name": "Python 3",
   "language": "python",
   "name": "python3"
  },
  "language_info": {
   "codemirror_mode": {
    "name": "ipython",
    "version": 3
   },
   "file_extension": ".py",
   "mimetype": "text/x-python",
   "name": "python",
   "nbconvert_exporter": "python",
   "pygments_lexer": "ipython3",
   "version": "3.4.1"
  }
 },
 "nbformat": 4,
 "nbformat_minor": 0
}
