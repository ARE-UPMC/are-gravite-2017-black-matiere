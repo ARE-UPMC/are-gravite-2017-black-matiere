{
 "cells": [
  {
   "cell_type": "markdown",
   "metadata": {},
   "source": [
    "# Rapport sur la voie lactée et la matière noire \n",
    "\n",
    "## Compréhension du sujet :\n",
    "\n",
    "Pour bien situer le sujet il est nécessaire de comprendre ce qu'est la radiosastronomie et les coordonnées galactiques ainsi que la spectroscopie de l'hydrogène neutre.\n",
    "\n",
    "La spectroscopie est une méthode essentielle à l'astrophysique pour mieux connaître les objets célestes de notre galaxie. Il s'agit d'étudier le spectre d'un phénomène ou d'un objet physique afin d'en déterminer les caractéristiques (composition, température, distance). \n",
    "L'hydrogène étant le constituant principal de l'univers et donc du milieu interstellaire des galaxies, l'étude de son spectre apporte de préciseuses informations sur les objets présents dans la voie Lactée. L'atome d'hydrogène neutre étant froid aucune transition électronique ne peut se produire, aucune lumière n'est émise, le nuage n'est donc pas visible. Le seul moment où celui-ci est détectable est lorsqu'il est situé devant une source lumineuse intense, telle qu'un ensemble d'étoile. C'est la découverte de la radioastronomie qui a permis d'observer l'hydrogène atomique sous sa forme neutre, en effet le nuage émet des ondes radios dont le spectre est une raie unique de 21 cm. \n",
    "\n",
    "La méthode par radioastronomie est née au 19éme siècle. Elle consiste à observer l’espace et les différents phénomènes grâce aux longueurs d’ondes. Chaque étoile émet des rayonnements qui nous permettront d'accéder aux caractéristiques des étoiles, de nuages de gaz grâce à l'étude du spectre.  Pour cela il faut utiliser un radio télescope qui va détecter les émissions radios. Ainsi grâce a ces mesures nous allons pouvoir à la fois étudier la cinématique et la répartition de gaz dans la voie lactée. \n",
    "\n",
    "\n",
    "- Qu'est ce que la matière noire ?\n",
    "- Où se trouve la prinicpale masse dans la Voie lactée?\n",
    "- Comment expliquer les différences entre les vitesses orbitales théoriques et les vitesses orbitales observées?\n",
    "\n",
    "\n",
    "    "
   ]
  },
  {
   "cell_type": "code",
   "execution_count": null,
   "metadata": {
    "collapsed": false
   },
   "outputs": [],
   "source": []
  },
  {
   "cell_type": "markdown",
   "metadata": {},
   "source": [
    "\n",
    "\n",
    "\n",
    "\n",
    " \n",
    " \n",
    " \n",
    "  \n",
    "\n",
    "\n",
    "\n",
    "\n",
    " "
   ]
  },
  {
   "cell_type": "markdown",
   "metadata": {
    "collapsed": true
   },
   "source": [
    "### Fonction qui calcule la vitesse du nuage de gaz et la distance au centre galactique:\n"
   ]
  },
  {
   "cell_type": "code",
   "execution_count": 126,
   "metadata": {
    "collapsed": false,
    "scrolled": true
   },
   "outputs": [
    {
     "name": "stdout",
     "output_type": "stream",
     "text": [
      "(0.0, 130.0)\n",
      "(0.14834545471690985, 203.83952941620237)\n",
      "(0.29664572197125821, 259.67788927455024)\n",
      "(0.4448556280650226, 240.51391037344763)\n",
      "(0.59293002682506502, 190.34642422370757)\n",
      "(0.7408238133550944, 201.1742634044848)\n",
      "longitude 6\n",
      "(0.88849193777505453, 207.99626191888376)\n",
      "(1.0358894189437535, 211.81125554913245)\n",
      "(1.1829713581605563, 212.61808221121439)\n",
      "longitude 10:\n",
      "(1.4760095101689079, 213.20259908672466)\n",
      "(1.7672493719509543, 191.74057197990706)\n",
      "(2.1999618833714263, 196.94018992255457)\n",
      "(2.4851594901432623, 196.32177503900209)\n",
      "longitude 20\n",
      "(2.9071712182681839, 195.24443153164714)\n",
      "(3.0461275711350524, 198.84094889996607)\n",
      "(3.4572614661443017, 190.48206147667605)\n",
      "(3.5922552247959452, 191.97601758295389)\n",
      "(3.8589192477861474, 196.87790994270028)\n",
      "(4.504313745982242, 215.58223813130508)\n",
      "(4.8753997089838919, 212.18681599723013)\n",
      "ok\n",
      "(5.2331225402680959, 215.44552457164482)\n",
      "(5.4636946823355839, 206.41327413103863)\n",
      "(6.0104076400856536, 215.56349186104043)\n",
      "(6.2165064637629488, 218.89781435621751)\n",
      "(6.5113777665113135, 217.52977748617516)\n",
      "(6.9627923764564299, 221.2134497435782)\n",
      "(7.3612159321677284, 218.52558883257649)\n",
      "(7.5050545393008781, 217.24847042896391)\n",
      "(7.7036161898115241, 217.387713148063)\n",
      "(7.8242912543457432, 210.51106775953687)\n",
      "(7.987387276680221, 212.73237657289982)\n",
      "(8.0839803885088042, 212.23243358493377)\n",
      "(8.2103695234570804, 212.50368178359503)\n",
      "ok\n"
     ]
    }
   ],
   "source": [
    "%matplotlib inline\n",
    "from pylab import *\n",
    "import numpy as np\n",
    "\n",
    "def vitessegaz(longitude, vitesserad):\n",
    "    \n",
    "    #vitesse du Soleil autour du centre galactique en (km/s)\n",
    "    v0=220\n",
    "    #Distance entre le soleil et le centre galactique(kpc, 1 pc=3.09*10**6m)\n",
    "    R0=8.5\n",
    "  \n",
    "    #vitesses orbitales\n",
    "    V=0\n",
    "    #Distance entre le nuage et le centre galactique\n",
    "    R=0\n",
    "    \n",
    "    V=vitesserad+v0*sin(math.radians(longitude))\n",
    "    R=R0*sin(math.radians(longitude))\n",
    "    \n",
    "    \n",
    "    return (R, V)\n",
    "\n",
    "print(vitessegaz(0,130))\n",
    "print(vitessegaz(1,200))\n",
    "print(vitessegaz(2,252))\n",
    "print(vitessegaz(3,229))\n",
    "print(vitessegaz(4,175))\n",
    "print(vitessegaz(5,182))\n",
    "print(\"longitude 6\")\n",
    "print(vitessegaz(6,185))\n",
    "print(vitessegaz(7,185))\n",
    "print(vitessegaz(8,182))\n",
    "print(\"longitude 10:\")\n",
    "print(vitessegaz(10,175))\n",
    "print(vitessegaz(12,146))\n",
    "print(vitessegaz(15,140))\n",
    "print(vitessegaz(17,132))\n",
    "print(\"longitude 20\")\n",
    "print(vitessegaz(20,120))\n",
    "print(vitessegaz(21,120))\n",
    "print(vitessegaz(24,101))\n",
    "print(vitessegaz(25,99))\n",
    "print(vitessegaz(27,97))\n",
    "print(vitessegaz(32,99))\n",
    "print(vitessegaz(35,86))\n",
    "print('ok')\n",
    "print(vitessegaz(38,80))\n",
    "print(vitessegaz(40,65))\n",
    "print(vitessegaz(45,60))\n",
    "print(vitessegaz(47,58))\n",
    "print(vitessegaz(50,49))\n",
    "print(vitessegaz(55,41))\n",
    "print(vitessegaz(60,28))\n",
    "print(vitessegaz(62,23))\n",
    "print(vitessegaz(65,18))\n",
    "print(vitessegaz(67,8))\n",
    "print(vitessegaz(70,6))\n",
    "print(vitessegaz(72,3))\n",
    "print(vitessegaz(75,0))\n",
    "\n"
   ]
  },
  {
   "cell_type": "code",
   "execution_count": null,
   "metadata": {
    "collapsed": false
   },
   "outputs": [],
   "source": []
  },
  {
   "cell_type": "markdown",
   "metadata": {
    "collapsed": false
   },
   "source": []
  },
  {
   "cell_type": "code",
   "execution_count": 47,
   "metadata": {
    "collapsed": false
   },
   "outputs": [
    {
     "data": {
      "text/plain": [
       "(array([ -55.,  -32.,  -16.,    2.,   26.,   34.,   44.,   57.,   70.,\n",
       "          78.,   89.,   93.,  107.,  130.]),\n",
       " array([   1.63,   36.84,   57.17,   52.6 ,   96.68,   78.13,   96.46,\n",
       "          77.17,   86.4 ,   92.65,   96.75,  101.45,   92.73,    1.18]))"
      ]
     },
     "execution_count": 47,
     "metadata": {},
     "output_type": "execute_result"
    }
   ],
   "source": [
    "import numpy as np\n",
    "Vr,T=np.loadtxt('spectre.txt',usecols=(0,1),unpack=True)\n",
    "Vr,T"
   ]
  },
  {
   "cell_type": "code",
   "execution_count": 48,
   "metadata": {
    "collapsed": false
   },
   "outputs": [
    {
     "data": {
      "image/png": "[encoded data removed]",
      "text/plain": [
       "<matplotlib.figure.Figure at 0x5e113f0>"
      ]
     },
     "metadata": {},
     "output_type": "display_data"
    }
   ],
   "source": [
    "%matplotlib inline\n",
    "from pylab import *\n",
    "figure(figsize=(12,6), dpi=80)\n",
    "plot(Vr, T, 'bo-')\n",
    "plt.title(\"Spectre Température en fonction de la vitesse radiale, à la longitude 30\")\n",
    "plt.xlabel('Vitesse radiale(km.s^-1)')\n",
    "plt.ylabel('Température ')\n",
    "show()\n"
   ]
  },
  {
   "cell_type": "code",
   "execution_count": 128,
   "metadata": {
    "collapsed": false
   },
   "outputs": [
    {
     "data": {
      "text/plain": [
       "(array([ 0.  ,  0.14,  0.29,  0.44,  0.59,  0.74,  0.88,  1.03,  1.18,\n",
       "         1.47,  1.76,  2.19,  2.48,  2.9 ,  3.04,  2.19,  3.59,  3.85,\n",
       "         4.5 ,  4.87,  5.23,  5.46,  6.01,  6.21,  6.51,  6.96,  7.36,\n",
       "         7.5 ,  7.7 ,  7.82,  7.98,  8.08,  8.21]),\n",
       " array([ 130.  ,  203.  ,  259.6 ,  240.5 ,  190.3 ,  203.17,  207.9 ,\n",
       "         211.81,  212.6 ,  213.2 ,  191.74,  196.94,  196.32,  195.2 ,\n",
       "         198.8 ,  196.9 ,  191.97,  196.87,  215.58,  212.18,  215.44,\n",
       "         206.41,  215.56,  218.89,  217.52,  221.21,  218.52,  217.24,\n",
       "         217.38,  210.51,  212.7 ,  212.23,  212.5 ]))"
      ]
     },
     "execution_count": 128,
     "metadata": {},
     "output_type": "execute_result"
    }
   ],
   "source": [
    "import numpy as np\n",
    "V,R=np.loadtxt('courberotation.txt',skiprows=1,usecols=(1,2),unpack=True)\n",
    "V,R"
   ]
  },
  {
   "cell_type": "code",
   "execution_count": 131,
   "metadata": {
    "collapsed": false
   },
   "outputs": [
    {
     "data": {
      "image/png": "[encoded data removed]",
      "text/plain": [
       "<matplotlib.figure.Figure at 0x5c58e50>"
      ]
     },
     "metadata": {},
     "output_type": "display_data"
    }
   ],
   "source": [
    "%matplotlib inline\n",
    "from pylab import *\n",
    "figure(figsize=(12,6), dpi=80)\n",
    "plot(V, R,\"ro\")\n",
    "plt.title(\"Courbe de rotation de la Voie lactée\")\n",
    "plt.xlabel('Distance au centre galactique(kpc)')\n",
    "plt.ylabel('Vitesse orbitale du nuage de gaz (km/s)')\n",
    "show()\n"
   ]
  },
  {
   "cell_type": "code",
   "execution_count": 88,
   "metadata": {
    "collapsed": false
   },
   "outputs": [
    {
     "data": {
      "text/plain": [
       "(0.0, 183.0)"
      ]
     },
     "execution_count": 88,
     "metadata": {},
     "output_type": "execute_result"
    }
   ],
   "source": []
  },
  {
   "cell_type": "code",
   "execution_count": null,
   "metadata": {
    "collapsed": true
   },
   "outputs": [],
   "source": []
  }
 ],
 "metadata": {
  "kernelspec": {
   "display_name": "Python 3",
   "language": "python",
   "name": "python3"
  },
  "language_info": {
   "codemirror_mode": {
    "name": "ipython",
    "version": 3
   },
   "file_extension": ".py",
   "mimetype": "text/x-python",
   "name": "python",
   "nbconvert_exporter": "python",
   "pygments_lexer": "ipython3",
   "version": "3.4.1"
  }
 },
 "nbformat": 4,
 "nbformat_minor": 0
}
