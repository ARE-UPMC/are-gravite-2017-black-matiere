{
 "cells": [
  {
   "cell_type": "markdown",
   "metadata": {},
   "source": [
    "# Rapport sur la voie lactée et la matière noire \n",
    "\n",
    "## Compréhension du sujet :\n",
    "\n",
    "Pour bien situer le sujet il est nécessaire de comprendre ce qu'est la radiosastronomie et les coordonnées galactiques ainsi que la spectroscopie de l'hydrogène neutre.\n",
    "\n",
    "La spectroscopie est une méthode essentielle à l'astrophysique pour mieux connaître les objets célestes de notre galaxie. Il s'agit d'étudier le spectre d'un phénomène ou d'un objet physique afin d'en déterminer les caractéristiques (composition, température, distance). \n",
    "L'hydrogène étant le constituant principal de l'univers et donc du milieu interstellaire des galaxies, l'étude de son spectre apporte de préciseuses informations sur les objets présents dans la voie Lactée. \n",
    "\n",
    "\n",
    "- Qu'est ce que la matière noire ?\n",
    "- Où se trouve la prinicpale masse dans la Voie lactée?\n",
    "- Comment expliquer les différences entre les vitesses orbitales théoriques et les vitesses orbitales observées?\n",
    "\n",
    "\n",
    "    "
   ]
  },
  {
   "cell_type": "code",
   "execution_count": null,
   "metadata": {
    "collapsed": false
   },
   "outputs": [],
   "source": []
  },
  {
   "cell_type": "markdown",
   "metadata": {},
   "source": [
    "\n",
    "\n",
    "\n",
    "\n",
    " \n",
    " \n",
    " \n",
    "  \n",
    "\n",
    "\n",
    "\n",
    "\n",
    " "
   ]
  },
  {
   "cell_type": "markdown",
   "metadata": {
    "collapsed": true
   },
   "source": [
    "### Fonction qui calcule la vitesse du nuage de gaz et la distance au centre galactique:\n"
   ]
  },
  {
   "cell_type": "code",
   "execution_count": null,
   "metadata": {
    "collapsed": false,
    "scrolled": true
   },
   "outputs": [],
   "source": [
    "from pylab import *\n",
    "import numpy as np\n",
    "\n",
    "def vitessegaz(longitude, vitesserad):\n",
    "    \n",
    "    #vitesse du Soleil autour du centre galactique en (km/s)\n",
    "    v0=220\n",
    "    #Distance entre le soleil et le centre galactique(kpc, 1 pc=3.09*10**6m)\n",
    "    R0=8.5\n",
    "  \n",
    "    #vitesses orbitales\n",
    "    V=0\n",
    "    #Distance entre le nuage et le centre galactique\n",
    "    R=0\n",
    "    \n",
    "    V=vitesserad+v0*sin(math.radians(longitude))\n",
    "    R=R0*sin(math.radians(longitude))\n",
    "    \n",
    "    \n",
    "    return (R, V)\n",
    "\n",
    "print(vitessegaz(0,130))\n",
    "print('longitude 1')\n",
    "print(vitessegaz(1,200))\n",
    "print(vitessegaz(2,252))\n",
    "print('longitude 3')\n",
    "print(vitessegaz(3,229))\n",
    "print(vitessegaz(4,175))\n",
    "print(vitessegaz(5,182))\n",
    "print(\"longitude 6\")\n",
    "print(vitessegaz(6,185))\n",
    "print(vitessegaz(7,185))\n",
    "print(vitessegaz(8,182))\n",
    "print(\"longitude 10:\")\n",
    "print(vitessegaz(10,175))\n",
    "print(vitessegaz(12,146))\n",
    "print(vitessegaz(15,140))\n",
    "print(vitessegaz(17,132))\n",
    "print(\"longitude 20\")\n",
    "print(vitessegaz(20,120))\n",
    "print(vitessegaz(21,120))\n",
    "print(vitessegaz(24,101))\n",
    "print(vitessegaz(25,99))\n",
    "print(vitessegaz(27,97))\n",
    "print(vitessegaz(32,99))\n",
    "print(vitessegaz(35,86))\n",
    "print(vitessegaz(38,80))\n",
    "print('longitude 40')\n",
    "print(vitessegaz(40,65))\n",
    "print(vitessegaz(45,60))\n",
    "print(vitessegaz(47,58))\n",
    "print(vitessegaz(50,49))\n",
    "print(vitessegaz(55,41))\n",
    "print('longitude 60')\n",
    "print(vitessegaz(60,28))\n",
    "print(vitessegaz(62,23))\n",
    "print(vitessegaz(65,18))\n",
    "print(vitessegaz(67,8))\n",
    "print ('longitude 70')\n",
    "print(vitessegaz(70,6))\n",
    "print(vitessegaz(72,3))\n",
    "print(vitessegaz(75,0))\n",
    "\n"
   ]
  },
  {
   "cell_type": "code",
   "execution_count": null,
   "metadata": {
    "collapsed": false
   },
   "outputs": [],
   "source": []
  },
  {
   "cell_type": "markdown",
   "metadata": {
    "collapsed": false
   },
   "source": []
  },
  {
   "cell_type": "code",
   "execution_count": 16,
   "metadata": {
    "collapsed": false
   },
   "outputs": [
    {
     "data": {
      "text/plain": [
       "(array([ -55.,  -32.,  -16.,    2.,   26.,   34.,   44.,   57.,   70.,\n",
       "          78.,   89.,   93.,  107.,  130.]),\n",
       " array([   1.63,   36.84,   57.17,   52.6 ,   96.68,   78.13,   96.46,\n",
       "          77.17,   86.4 ,   92.65,   96.75,  101.45,   92.73,    1.18]))"
      ]
     },
     "execution_count": 16,
     "metadata": {},
     "output_type": "execute_result"
    }
   ],
   "source": [
    "import numpy as np\n",
    "Vr,T=np.loadtxt('spectre.txt',usecols=(0,1),unpack=True)\n",
    "Vr,T"
   ]
  },
  {
   "cell_type": "code",
   "execution_count": null,
   "metadata": {
    "collapsed": false
   },
   "outputs": [],
   "source": [
    "figure(figsize=(12,6), dpi=80)\n",
    "plot(Vr, T, 'bo-')\n",
    "plt.title(\"Spectre Température en fonction de la vitesse radiale, à la longitude 30\")\n",
    "plt.xlabel('Vitesse radiale(km.s^-1)')\n",
    "plt.ylabel('Température ')\n",
    "show()\n"
   ]
  },
  {
   "cell_type": "code",
   "execution_count": null,
   "metadata": {
    "collapsed": false
   },
   "outputs": [],
   "source": [
    "import numpy as np\n",
    "V,R=np.loadtxt('courberotation.txt',skiprows=1,usecols=(1,2),unpack=True)\n",
    "V,R"
   ]
  },
  {
   "cell_type": "code",
   "execution_count": 7,
   "metadata": {
    "collapsed": false
   },
   "outputs": [],
   "source": [
    "figure(figsize=(12,6), dpi=80)\n",
    "plot(V, R,\"ro\")\n",
    "plt.title(\"Courbe de rotation de la Voie lactée\")\n",
    "plt.xlabel('Distance au centre galactique(kpc)')\n",
    "plt.ylabel('Vitesse orbitale du nuage de gaz (km/s)')\n",
    "show()\n"
   ]
  },
  {
   "cell_type": "markdown",
   "metadata": {
    "collapsed": false
   },
   "source": [
    "D'après la deuxième loi de Newton, on peut déduire des valeurs théoriques des vitesses orbitales des nuages de gaz. Effectivement, sous l'effet de la force gravitationnelle dont l'intensité décroit avec la distance entre les deux objets étudiés, on peut supposer que lorsque l'on s'éloigne du centre galactique, cette force diminue et donc la vitesse décroît. Or en réalité, la théorie n'est pas vérifiée comme le montre la courbe de rotation ci dessus, la vitesse orbitale des nuage de gaz augmente lorsque le rayon augmente avant de se stabiliser lorsque le rayson approche les 1kpc soit 3,086*10^19m du centre galactique. Nous allons tenter de modéliser ces observations sur les vitesses orbitales avec des simulations."
   ]
  },
  {
   "cell_type": "markdown",
   "metadata": {
    "collapsed": true
   },
   "source": [
    "### Simuler la vitesse la vitesse orbitale en fonction de l'éloignement du centre galactique"
   ]
  },
  {
   "cell_type": "code",
   "execution_count": 31,
   "metadata": {
    "collapsed": false
   },
   "outputs": [
    {
     "name": "stderr",
     "output_type": "stream",
     "text": [
      "Exception in Tkinter callback\n",
      "Traceback (most recent call last):\n",
      "  File \"C:\\Python34\\lib\\tkinter\\__init__.py\", line 1487, in __call__\n",
      "    return self.func(*args)\n",
      "  File \"C:\\Python34\\lib\\tkinter\\__init__.py\", line 535, in callit\n",
      "    self.deletecommand(name)\n",
      "  File \"C:\\Python34\\lib\\tkinter\\__init__.py\", line 394, in deletecommand\n",
      "    self._tclCommands.remove(name)\n",
      "AttributeError: 'NoneType' object has no attribute 'remove'\n"
     ]
    },
    {
     "ename": "AttributeError",
     "evalue": "'NoneType' object has no attribute 'tk'",
     "output_type": "error",
     "traceback": [
      "\u001b[1;31m---------------------------------------------------------------------------\u001b[0m",
      "\u001b[1;31mAttributeError\u001b[0m                            Traceback (most recent call last)",
      "\u001b[1;32m<ipython-input-31-77d2351f1637>\u001b[0m in \u001b[0;36m<module>\u001b[1;34m()\u001b[0m\n\u001b[0;32m     95\u001b[0m \u001b[0mplt\u001b[0m\u001b[1;33m.\u001b[0m\u001b[0maxis\u001b[0m\u001b[1;33m(\u001b[0m\u001b[1;34m\"equal\"\u001b[0m\u001b[1;33m)\u001b[0m\u001b[1;33m\u001b[0m\u001b[0m\n\u001b[0;32m     96\u001b[0m \u001b[0mplt\u001b[0m\u001b[1;33m.\u001b[0m\u001b[0mplot\u001b[0m\u001b[1;33m(\u001b[0m\u001b[0mcercle\u001b[0m\u001b[1;33m(\u001b[0m\u001b[1;36m20\u001b[0m\u001b[1;33m,\u001b[0m\u001b[0mnp\u001b[0m\u001b[1;33m.\u001b[0m\u001b[0mpi\u001b[0m\u001b[1;33m/\u001b[0m\u001b[1;36m4\u001b[0m\u001b[1;33m)\u001b[0m\u001b[1;33m,\u001b[0m\u001b[0mcercle\u001b[0m\u001b[1;33m(\u001b[0m\u001b[1;36m40\u001b[0m\u001b[1;33m,\u001b[0m\u001b[0mnp\u001b[0m\u001b[1;33m.\u001b[0m\u001b[0mpi\u001b[0m\u001b[1;33m/\u001b[0m\u001b[1;36m8\u001b[0m\u001b[1;33m)\u001b[0m\u001b[1;33m,\u001b[0m \u001b[0mcercle\u001b[0m\u001b[1;33m(\u001b[0m\u001b[1;36m60\u001b[0m\u001b[1;33m,\u001b[0m\u001b[0mnp\u001b[0m\u001b[1;33m.\u001b[0m\u001b[0mpi\u001b[0m\u001b[1;33m/\u001b[0m\u001b[1;36m16\u001b[0m\u001b[1;33m)\u001b[0m\u001b[1;33m,\u001b[0m \u001b[0mcercle\u001b[0m\u001b[1;33m(\u001b[0m\u001b[1;36m80\u001b[0m\u001b[1;33m,\u001b[0m \u001b[0mnp\u001b[0m\u001b[1;33m.\u001b[0m\u001b[0mpi\u001b[0m\u001b[1;33m/\u001b[0m\u001b[1;36m24\u001b[0m\u001b[1;33m)\u001b[0m\u001b[1;33m)\u001b[0m\u001b[1;33m\u001b[0m\u001b[0m\n\u001b[1;32m---> 97\u001b[1;33m \u001b[0mplt\u001b[0m\u001b[1;33m.\u001b[0m\u001b[0mshow\u001b[0m\u001b[1;33m(\u001b[0m\u001b[1;33m)\u001b[0m\u001b[1;33m\u001b[0m\u001b[0m\n\u001b[0m",
      "\u001b[1;32mC:\\Python34\\lib\\site-packages\\matplotlib\\pyplot.py\u001b[0m in \u001b[0;36mshow\u001b[1;34m(*args, **kw)\u001b[0m\n\u001b[0;32m    153\u001b[0m     \"\"\"\n\u001b[0;32m    154\u001b[0m     \u001b[1;32mglobal\u001b[0m \u001b[0m_show\u001b[0m\u001b[1;33m\u001b[0m\u001b[0m\n\u001b[1;32m--> 155\u001b[1;33m     \u001b[1;32mreturn\u001b[0m \u001b[0m_show\u001b[0m\u001b[1;33m(\u001b[0m\u001b[1;33m*\u001b[0m\u001b[0margs\u001b[0m\u001b[1;33m,\u001b[0m \u001b[1;33m**\u001b[0m\u001b[0mkw\u001b[0m\u001b[1;33m)\u001b[0m\u001b[1;33m\u001b[0m\u001b[0m\n\u001b[0m\u001b[0;32m    156\u001b[0m \u001b[1;33m\u001b[0m\u001b[0m\n\u001b[0;32m    157\u001b[0m \u001b[1;33m\u001b[0m\u001b[0m\n",
      "\u001b[1;32mC:\\Python34\\lib\\site-packages\\matplotlib\\backend_bases.py\u001b[0m in \u001b[0;36m__call__\u001b[1;34m(self, block)\u001b[0m\n\u001b[0;32m    182\u001b[0m \u001b[1;33m\u001b[0m\u001b[0m\n\u001b[0;32m    183\u001b[0m         \u001b[1;32mif\u001b[0m \u001b[1;32mnot\u001b[0m \u001b[0mis_interactive\u001b[0m\u001b[1;33m(\u001b[0m\u001b[1;33m)\u001b[0m \u001b[1;32mor\u001b[0m \u001b[0mget_backend\u001b[0m\u001b[1;33m(\u001b[0m\u001b[1;33m)\u001b[0m \u001b[1;33m==\u001b[0m \u001b[1;34m'WebAgg'\u001b[0m\u001b[1;33m:\u001b[0m\u001b[1;33m\u001b[0m\u001b[0m\n\u001b[1;32m--> 184\u001b[1;33m             \u001b[0mself\u001b[0m\u001b[1;33m.\u001b[0m\u001b[0mmainloop\u001b[0m\u001b[1;33m(\u001b[0m\u001b[1;33m)\u001b[0m\u001b[1;33m\u001b[0m\u001b[0m\n\u001b[0m\u001b[0;32m    185\u001b[0m \u001b[1;33m\u001b[0m\u001b[0m\n\u001b[0;32m    186\u001b[0m     \u001b[1;32mdef\u001b[0m \u001b[0mmainloop\u001b[0m\u001b[1;33m(\u001b[0m\u001b[0mself\u001b[0m\u001b[1;33m)\u001b[0m\u001b[1;33m:\u001b[0m\u001b[1;33m\u001b[0m\u001b[0m\n",
      "\u001b[1;32mC:\\Python34\\lib\\site-packages\\matplotlib\\backends\\backend_tkagg.py\u001b[0m in \u001b[0;36mmainloop\u001b[1;34m(self)\u001b[0m\n\u001b[0;32m     69\u001b[0m \u001b[1;32mclass\u001b[0m \u001b[0mShow\u001b[0m\u001b[1;33m(\u001b[0m\u001b[0mShowBase\u001b[0m\u001b[1;33m)\u001b[0m\u001b[1;33m:\u001b[0m\u001b[1;33m\u001b[0m\u001b[0m\n\u001b[0;32m     70\u001b[0m     \u001b[1;32mdef\u001b[0m \u001b[0mmainloop\u001b[0m\u001b[1;33m(\u001b[0m\u001b[0mself\u001b[0m\u001b[1;33m)\u001b[0m\u001b[1;33m:\u001b[0m\u001b[1;33m\u001b[0m\u001b[0m\n\u001b[1;32m---> 71\u001b[1;33m         \u001b[0mTk\u001b[0m\u001b[1;33m.\u001b[0m\u001b[0mmainloop\u001b[0m\u001b[1;33m(\u001b[0m\u001b[1;33m)\u001b[0m\u001b[1;33m\u001b[0m\u001b[0m\n\u001b[0m\u001b[0;32m     72\u001b[0m \u001b[1;33m\u001b[0m\u001b[0m\n\u001b[0;32m     73\u001b[0m \u001b[0mshow\u001b[0m \u001b[1;33m=\u001b[0m \u001b[0mShow\u001b[0m\u001b[1;33m(\u001b[0m\u001b[1;33m)\u001b[0m\u001b[1;33m\u001b[0m\u001b[0m\n",
      "\u001b[1;32mC:\\Python34\\lib\\tkinter\\__init__.py\u001b[0m in \u001b[0;36mmainloop\u001b[1;34m(n)\u001b[0m\n\u001b[0;32m    354\u001b[0m \u001b[1;32mdef\u001b[0m \u001b[0mmainloop\u001b[0m\u001b[1;33m(\u001b[0m\u001b[0mn\u001b[0m\u001b[1;33m=\u001b[0m\u001b[1;36m0\u001b[0m\u001b[1;33m)\u001b[0m\u001b[1;33m:\u001b[0m\u001b[1;33m\u001b[0m\u001b[0m\n\u001b[0;32m    355\u001b[0m     \u001b[1;34m\"\"\"Run the main loop of Tcl.\"\"\"\u001b[0m\u001b[1;33m\u001b[0m\u001b[0m\n\u001b[1;32m--> 356\u001b[1;33m     \u001b[0m_default_root\u001b[0m\u001b[1;33m.\u001b[0m\u001b[0mtk\u001b[0m\u001b[1;33m.\u001b[0m\u001b[0mmainloop\u001b[0m\u001b[1;33m(\u001b[0m\u001b[0mn\u001b[0m\u001b[1;33m)\u001b[0m\u001b[1;33m\u001b[0m\u001b[0m\n\u001b[0m\u001b[0;32m    357\u001b[0m \u001b[1;33m\u001b[0m\u001b[0m\n\u001b[0;32m    358\u001b[0m \u001b[0mgetint\u001b[0m \u001b[1;33m=\u001b[0m \u001b[0mint\u001b[0m\u001b[1;33m\u001b[0m\u001b[0m\n",
      "\u001b[1;31mAttributeError\u001b[0m: 'NoneType' object has no attribute 'tk'"
     ]
    }
   ],
   "source": [
    "#Animation vitesse/distance centre galactique\n",
    "\n",
    "import numpy as np\n",
    "from matplotlib import pyplot as plt\n",
    "from matplotlib import animation\n",
    "import matplotlib.pyplot as plt\n",
    "from __future__ import division \n",
    "from scipy import *                  \n",
    "from pylab import * \n",
    "import os\n",
    "\n",
    "def cercle(R,pas):\n",
    "    angle=0\n",
    "    avancement=pas\n",
    "    while angle<2*np.pi:\n",
    "        angle=angle+avancement\n",
    "        x=R*cos(angle)\n",
    "        y=R*sin(angle)\n",
    "        plt.axis([-100,100,-100,100])\n",
    "        plot(x,y,'co')\n",
    "        \n",
    "plt.axis(\"equal\")\n",
    "plt.show()\n",
    "\n",
    "fig = plt.figure()\n",
    "fig.set_dpi(100)\n",
    "fig.set_size_inches(7, 6.5)\n",
    "\n",
    "ax = plt.axes(xlim=(-10, 10), ylim=(-10, 10))\n",
    "\n",
    "size = 1\n",
    "xcenter = 0\n",
    "ycenter = 0\n",
    "radius = 1\n",
    "\n",
    "patch = plt.Circle((0,0), size, fc='b')\n",
    "\n",
    "def init():\n",
    "    ax.add_patch(patch)\n",
    "    return patch,\n",
    "\n",
    "def animate(t):\n",
    "    x, y = patch.center\n",
    "    x = xcenter + 20* np.sin(t*np.pi/4)\n",
    "    y = ycenter + 20 * np.cos(t*np.pi/4)\n",
    "    patch.center = (x, y)\n",
    "    return patch,\n",
    "\n",
    "\n",
    "def animate2(t):\n",
    "    x, y = patch.center\n",
    "    x = xcenter + 40 * np.sin(t*np.pi/8)\n",
    "    y = ycenter + 40 * np.cos(t*np.pi/8)\n",
    "    patch.center = (x, y)\n",
    "    return patch,\n",
    "\n",
    "def animate3(t):\n",
    "    x, y = patch.center\n",
    "    x = xcenter + 60 * np.sin(t*np.pi/16)\n",
    "    y = ycenter + 60 * np.cos(t*np.pi/16)\n",
    "    patch.center = (x, y)\n",
    "    return patch,\n",
    "\n",
    "def animate4(t):\n",
    "    x, y = patch.center\n",
    "    x = xcenter + 80 * np.sin(t*np.pi/24)\n",
    "    y = ycenter + 80 * np.cos(t*np.pi/24)\n",
    "    patch.center = (x, y)\n",
    "    return patch,\n",
    "\n",
    "anim = animation.FuncAnimation(fig, animate, \n",
    "                               init_func=init, \n",
    "                               frames=360, \n",
    "                               interval=20,\n",
    "                               blit=True)\n",
    "\n",
    "anim = animation.FuncAnimation(fig, animate2, \n",
    "                               init_func=init, \n",
    "                               frames=360, \n",
    "                               interval=20,\n",
    "                               blit=True)\n",
    "\n",
    "anim = animation.FuncAnimation(fig, animate3, \n",
    "                               init_func=init, \n",
    "                               frames=360, \n",
    "                               interval=20,\n",
    "                               blit=True)\n",
    "\n",
    "anim = animation.FuncAnimation(fig, animate4, \n",
    "                               init_func=init, \n",
    "                               frames=360, \n",
    "                               interval=20,\n",
    "                               blit=True)\n",
    "\n",
    "plt.axis(\"equal\")\n",
    "plt.plot(cercle(20,np.pi/4),cercle(40,np.pi/8), cercle(60,np.pi/16), cercle(80, np.pi/24))\n",
    "plt.show()"
   ]
  },
  {
   "cell_type": "code",
   "execution_count": 26,
   "metadata": {
    "collapsed": false
   },
   "outputs": [],
   "source": [
    "def listex(angle, rayon):\n",
    "    L=[]\n",
    "    x=0\n",
    "    for t in range(20):\n",
    "        x=rayon*cos(t*angle)\n",
    "        L.append(x)\n",
    "    return L\n",
    "        \n",
    "def listey(angle, rayon):\n",
    "    L=[]\n",
    "    y=0\n",
    "    for t in range(20):\n",
    "        y=rayon*sin(t*angle)\n",
    "        L.append(y)\n",
    "    return L"
   ]
  },
  {
   "cell_type": "code",
   "execution_count": 27,
   "metadata": {
    "collapsed": false
   },
   "outputs": [
    {
     "data": {
      "text/plain": [
       "[20.0,\n",
       " 14.142135623730951,\n",
       " 1.2246467991473533e-15,\n",
       " -14.142135623730949,\n",
       " -20.0,\n",
       " -14.142135623730955,\n",
       " -3.6739403974420592e-15,\n",
       " 14.142135623730947,\n",
       " 20.0,\n",
       " 14.142135623730955,\n",
       " 6.1232339957367661e-15,\n",
       " -14.142135623730933,\n",
       " -20.0,\n",
       " -14.142135623730942,\n",
       " -8.572527594031473e-15,\n",
       " 14.142135623730931,\n",
       " 20.0,\n",
       " 14.142135623730944,\n",
       " 1.1021821192326179e-14,\n",
       " -14.14213562373093]"
      ]
     },
     "execution_count": 27,
     "metadata": {},
     "output_type": "execute_result"
    }
   ],
   "source": [
    "listex(np.pi/4,20)"
   ]
  },
  {
   "cell_type": "code",
   "execution_count": 13,
   "metadata": {
    "collapsed": false
   },
   "outputs": [
    {
     "data": {
      "text/plain": [
       "[0.0,\n",
       " 14.142135623730949,\n",
       " 20.0,\n",
       " 14.142135623730951,\n",
       " 2.4492935982947065e-15,\n",
       " -14.142135623730949,\n",
       " -20.0,\n",
       " -14.142135623730955,\n",
       " -4.898587196589413e-15,\n",
       " 14.142135623730947,\n",
       " 20.0,\n",
       " 14.142135623730967,\n",
       " 7.3478807948841184e-15,\n",
       " -14.142135623730958,\n",
       " -20.0,\n",
       " -14.142135623730969,\n",
       " -9.7971743931788261e-15,\n",
       " 14.142135623730956,\n",
       " 20.0,\n",
       " 14.142135623730972]"
      ]
     },
     "execution_count": 13,
     "metadata": {},
     "output_type": "execute_result"
    }
   ],
   "source": [
    "listey(np.pi/4,20)"
   ]
  },
  {
   "cell_type": "code",
   "execution_count": 14,
   "metadata": {
    "collapsed": false
   },
   "outputs": [
    {
     "data": {
      "text/plain": [
       "[40.0,\n",
       " 36.955181300451471,\n",
       " 28.284271247461902,\n",
       " 15.307337294603593,\n",
       " 2.4492935982947065e-15,\n",
       " -15.307337294603588,\n",
       " -28.284271247461898,\n",
       " -36.955181300451471,\n",
       " -40.0,\n",
       " -36.955181300451471,\n",
       " -28.284271247461909,\n",
       " -15.307337294603613,\n",
       " -7.3478807948841184e-15,\n",
       " 15.307337294603601,\n",
       " 28.284271247461895,\n",
       " 36.955181300451457,\n",
       " 40.0,\n",
       " 36.955181300451471,\n",
       " 28.284271247461909,\n",
       " 15.307337294603618]"
      ]
     },
     "execution_count": 14,
     "metadata": {},
     "output_type": "execute_result"
    }
   ],
   "source": [
    "listex(np.pi/8,40)"
   ]
  },
  {
   "cell_type": "code",
   "execution_count": 15,
   "metadata": {
    "collapsed": false
   },
   "outputs": [
    {
     "data": {
      "text/plain": [
       "[0.0,\n",
       " 15.307337294603592,\n",
       " 28.284271247461898,\n",
       " 36.955181300451471,\n",
       " 40.0,\n",
       " 36.955181300451471,\n",
       " 28.284271247461902,\n",
       " 15.307337294603595,\n",
       " 4.898587196589413e-15,\n",
       " -15.307337294603586,\n",
       " -28.284271247461898,\n",
       " -36.955181300451457,\n",
       " -40.0,\n",
       " -36.955181300451464,\n",
       " -28.284271247461909,\n",
       " -15.307337294603617,\n",
       " -9.7971743931788261e-15,\n",
       " 15.307337294603599,\n",
       " 28.284271247461895,\n",
       " 36.955181300451457]"
      ]
     },
     "execution_count": 15,
     "metadata": {},
     "output_type": "execute_result"
    }
   ],
   "source": [
    "listey(np.pi/8,40)"
   ]
  },
  {
   "cell_type": "code",
   "execution_count": 23,
   "metadata": {
    "collapsed": false
   },
   "outputs": [
    {
     "data": {
      "text/plain": [
       "(array([  2.00000000e+01,   1.40000000e+01,   1.00000000e-15,\n",
       "         -1.40000000e+01,  -2.00000000e+01]),\n",
       " array([  0.00000000e+00,   1.40000000e+01,   2.00000000e+01,\n",
       "          1.40000000e+01,   2.00000000e-15]))"
      ]
     },
     "execution_count": 23,
     "metadata": {},
     "output_type": "execute_result"
    }
   ],
   "source": [
    "import numpy as np\n",
    "x1,y1=np.loadtxt('x1.txt',skiprows=1,usecols=(0,1),unpack=True)\n",
    "x1,y1\n",
    "\n"
   ]
  },
  {
   "cell_type": "code",
   "execution_count": 24,
   "metadata": {
    "collapsed": false
   },
   "outputs": [
    {
     "data": {
      "text/plain": [
       "(array([  4.00000000e+01,   3.60000000e+01,   2.80000000e+01,\n",
       "          1.50000000e+01,   2.00000000e-15]),\n",
       " array([  0.,  15.,  28.,  36.,  40.]))"
      ]
     },
     "execution_count": 24,
     "metadata": {},
     "output_type": "execute_result"
    }
   ],
   "source": [
    "import numpy as np\n",
    "x2,y2=np.loadtxt('x2.txt',skiprows=1,usecols=(0,1),unpack=True)\n",
    "x2,y2\n"
   ]
  },
  {
   "cell_type": "code",
   "execution_count": 30,
   "metadata": {
    "collapsed": false
   },
   "outputs": [
    {
     "name": "stdout",
     "output_type": "stream",
     "text": [
      "20.0 20.0\n",
      "14.1421356237 14.1421356237\n",
      "1.22464679915e-15 1.22464679915e-15\n",
      "-14.1421356237 -14.1421356237\n",
      "-20.0 -20.0\n",
      "-14.1421356237 -14.1421356237\n",
      "-3.67394039744e-15 -3.67394039744e-15\n",
      "14.1421356237 14.1421356237\n",
      "20.0 20.0\n",
      "14.1421356237 14.1421356237\n",
      "6.12323399574e-15 6.12323399574e-15\n",
      "-14.1421356237 -14.1421356237\n",
      "-20.0 -20.0\n",
      "-14.1421356237 -14.1421356237\n",
      "-8.57252759403e-15 -8.57252759403e-15\n",
      "14.1421356237 14.1421356237\n",
      "20.0 20.0\n",
      "14.1421356237 14.1421356237\n",
      "1.10218211923e-14 1.10218211923e-14\n",
      "-14.1421356237 -14.1421356237\n"
     ]
    }
   ],
   "source": [
    "def xtemps(t):\n",
    "    x=20*cos(t*np.pi/4)\n",
    "    return x\n",
    "\n",
    "def ytemps(t):\n",
    "    y=20*cos(t*np.pi/4)\n",
    "    return y\n",
    "\n",
    "for t in range(0,20):\n",
    "   print( xtemps(t),ytemps(t))"
   ]
  },
  {
   "cell_type": "code",
   "execution_count": null,
   "metadata": {
    "collapsed": true
   },
   "outputs": [],
   "source": []
  },
  {
   "cell_type": "code",
   "execution_count": null,
   "metadata": {
    "collapsed": true
   },
   "outputs": [],
   "source": []
  }
 ],
 "metadata": {
  "kernelspec": {
   "display_name": "Python 3",
   "language": "python",
   "name": "python3"
  },
  "language_info": {
   "codemirror_mode": {
    "name": "ipython",
    "version": 3
   },
   "file_extension": ".py",
   "mimetype": "text/x-python",
   "name": "python",
   "nbconvert_exporter": "python",
   "pygments_lexer": "ipython3",
   "version": "3.4.1"
  }
 },
 "nbformat": 4,
 "nbformat_minor": 0
}
