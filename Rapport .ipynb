{
 "cells": [
  {
   "cell_type": "markdown",
   "metadata": {},
   "source": [
    "# Rapport sur la voie lactée et la matière noire \n",
    "\n",
    "## Compréhension du sujet :\n",
    "\n",
    "Pour bien situer le sujet il est nécessaire de comprendre ce qu'est la radiosastronomie et les coordonnées galactiques ainsi que la spectroscopie de l'hydrogène neutre.\n",
    "\n",
    "La spectroscopie est une méthode essentielle à l'astrophysique pour mieux connaître les objets célestes de notre galaxie. Il s'agit d'étudier le spectre d'un phénomène ou d'un objet physique afin d'en déterminer les caractéristiques (composition, température, distance). \n",
    "L'hydrogène étant le constituant principal de l'univers et donc du milieu interstellaire des galaxies, l'étude de son spectre apporte de préciseuses informations sur les objets présents dans la voie Lactée. L'atome d'hydrogène neutre étant froid aucune transition électronique ne peut se produire, aucune lumière n'est émise, le nuage n'est donc pas visible. Le seul moment où celui-ci est détectable est lorsqu'il est situé devant une source lumineuse intense, telle qu'un ensemble d'étoile. C'est la découverte de la radioastronomie qui a permis d'observer l'hydrogène atomique sous sa forme neutre, en effet le nuage émet des ondes radios dont le spectre est une raie unique de 21 cm. \n",
    "\n",
    "- Qu'est ce que la matière noire ?\n",
    "- Où se trouve la prinicpale masse dans la Voie lactée?\n",
    "- Comment expliquer les différences entre les vitesses raidiales théoriques et les vitesses radiales observées?\n",
    "\n",
    "\n",
    "    "
   ]
  },
  {
   "cell_type": "markdown",
   "metadata": {},
   "source": [
    "La matière noire https://home.cern/fr/about/physics/dark-matter"
   ]
  }
 ],
 "metadata": {
  "kernelspec": {
   "display_name": "Python 3",
   "language": "python",
   "name": "python3"
  },
  "language_info": {
   "codemirror_mode": {
    "name": "ipython",
    "version": 3
   },
   "file_extension": ".py",
   "mimetype": "text/x-python",
   "name": "python",
   "nbconvert_exporter": "python",
   "pygments_lexer": "ipython3",
   "version": "3.4.1"
  }
 },
 "nbformat": 4,
 "nbformat_minor": 0
}
