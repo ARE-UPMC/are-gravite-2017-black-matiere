{
 "cells": [
  {
   "cell_type": "markdown",
   "metadata": {},
   "source": [
    "# Rapport sur la voie lactée et la matière noire \n",
    "\n",
    "## Compréhension du sujet :\n",
    "\n",
    "Pour bien situer le sujet il est nécessaire de comprendre ce qu'est la radiosastronomie et les coordonnées galactiques ainsi que la spectroscopie de l'hydrogène neutre.\n",
    "\n",
    "La spectroscopie est une méthode essentielle à l'astrophysique pour mieux connaître les objets célestes de notre galaxie. Il s'agit d'étudier le spectre d'un phénomène ou d'un objet physique afin d'en déterminer les caractéristiques (composition, température, distance). \n",
    "L'hydrogène étant le constituant principal de l'univers et donc du milieu interstellaire des galaxies, l'étude de son spectre apporte de préciseuses informations sur les objets présents dans la voie Lactée. L'atome d'hydrogène neutre étant froid aucune transition électronique ne peut se produire, aucune lumière n'est émise, le nuage n'est donc pas visible. Le seul moment où celui-ci est détectable est lorsqu'il est situé devant une source lumineuse intense, telle qu'un ensemble d'étoile. C'est la découverte de la radioastronomie qui a permis d'observer l'hydrogène atomique sous sa forme neutre, en effet le nuage émet des ondes radios dont le spectre est une raie unique de 21 cm. \n",
    "\n",
    "La méthode par radioastronomie est née au 19éme siècle. Elle consiste à observer l’espace et les différents phénomènes grâce aux longueurs d’ondes. Chaque étoile émet des rayonnements qui nous permettront d'accéder aux caractéristiques des étoiles, de nuages de gaz grâce à l'étude du spectre.  Pour cela il faut utiliser un radio télescope qui va détecter les émissions radios. Ainsi grâce a ces mesures nous allons pouvoir à la fois étudier la cinématique et la répartition de gaz dans la voie lactée. \n",
    "\n",
    "\n",
    "- Qu'est ce que la matière noire ?\n",
    "- Où se trouve la prinicpale masse dans la Voie lactée?\n",
    "- Comment expliquer les différences entre les vitesses orbitales théoriques et les vitesses orbitales observées?\n",
    "\n",
    "\n",
    "    "
   ]
  },
  {
   "cell_type": "code",
   "execution_count": null,
   "metadata": {
    "collapsed": false
   },
   "outputs": [],
   "source": []
  },
  {
   "cell_type": "markdown",
   "metadata": {},
   "source": [
    "\n",
    "\n",
    "\n",
    "\n",
    " \n",
    " \n",
    " \n",
    "  \n",
    "\n",
    "\n",
    "\n",
    "\n",
    " "
   ]
  },
  {
   "cell_type": "markdown",
   "metadata": {
    "collapsed": true
   },
   "source": [
    "l:15°,30°,45°,60°,75°\n",
    "Vr(km/s)!140, 100, 60, 30, 0\n",
    "R0=220\n",
    "v0=8.5\n",
    "V=197,210,215,220,212\n",
    "R=2.19, 4.25,6.01,7.36, 8.2\n"
   ]
  },
  {
   "cell_type": "code",
   "execution_count": 49,
   "metadata": {
    "collapsed": false
   },
   "outputs": [
    {
     "data": {
      "text/plain": [
       "(8.2103695234570804, 212.50368178359503)"
      ]
     },
     "execution_count": 49,
     "metadata": {},
     "output_type": "execute_result"
    }
   ],
   "source": [
    "%matplotlib inline\n",
    "from pylab import *\n",
    "import numpy as np\n",
    "\n",
    "def vitessegaz(longitude, vitesserad):\n",
    "    \n",
    "    #vitesse du Soleil autour du centre galactique en (km/s)\n",
    "    v0=220\n",
    "    #Distance entre le soleil et le centre galactique(kpc, 1 pc=3.09*10**6m)\n",
    "    R0=8.5\n",
    "  \n",
    "    #vitesses orbitales\n",
    "    V=0\n",
    "    #Distance entre le nuage et le centre galactique\n",
    "    R=0\n",
    "    \n",
    "    V=vitesserad+v0*sin(math.radians(longitude))\n",
    "    R=R0*sin(math.radians(longitude))\n",
    "    \n",
    "    \n",
    "    return (R, V)\n",
    "\n",
    "vitessegaz(15,140)\n",
    "\n",
    "vitessegaz(60,30)\n",
    "vitessegaz(75,0)"
   ]
  },
  {
   "cell_type": "code",
   "execution_count": 50,
   "metadata": {
    "collapsed": false
   },
   "outputs": [
    {
     "data": {
      "text/plain": [
       "(6.0104076400856536, 215.56349186104043)"
      ]
     },
     "execution_count": 50,
     "metadata": {},
     "output_type": "execute_result"
    }
   ],
   "source": [
    "vitessegaz(45,60)"
   ]
  },
  {
   "cell_type": "code",
   "execution_count": 46,
   "metadata": {
    "collapsed": false
   },
   "outputs": [
    {
     "data": {
      "text/plain": [
       "(4.2499999999999991, 210.0)"
      ]
     },
     "execution_count": 46,
     "metadata": {},
     "output_type": "execute_result"
    }
   ],
   "source": [
    "vitessegaz(30,100)"
   ]
  },
  {
   "cell_type": "code",
   "execution_count": 47,
   "metadata": {
    "collapsed": false
   },
   "outputs": [
    {
     "data": {
      "text/plain": [
       "(array([ -55.,  -32.,  -16.,    2.,   26.,   34.,   44.,   57.,   70.,\n",
       "          78.,   89.,   93.,  107.,  130.]),\n",
       " array([   1.63,   36.84,   57.17,   52.6 ,   96.68,   78.13,   96.46,\n",
       "          77.17,   86.4 ,   92.65,   96.75,  101.45,   92.73,    1.18]))"
      ]
     },
     "execution_count": 47,
     "metadata": {},
     "output_type": "execute_result"
    }
   ],
   "source": [
    "import numpy as np\n",
    "Vr,T=np.loadtxt('spectre.txt',usecols=(0,1),unpack=True)\n",
    "Vr,T"
   ]
  },
  {
   "cell_type": "code",
   "execution_count": 48,
   "metadata": {
    "collapsed": false
   },
   "outputs": [
    {
     "data": {
      "image/png": "[encoded data removed]",
      "text/plain": [
       "<matplotlib.figure.Figure at 0x5e113f0>"
      ]
     },
     "metadata": {},
     "output_type": "display_data"
    }
   ],
   "source": [
    "%matplotlib inline\n",
    "from pylab import *\n",
    "figure(figsize=(12,6), dpi=80)\n",
    "plot(Vr, T, 'bo-')\n",
    "plt.title(\"Spectre Température en fonction de la vitesse radiale, à la longitude 30\")\n",
    "plt.xlabel('Vitesse radiale(km.s^-1)')\n",
    "plt.ylabel('Température ')\n",
    "show()\n"
   ]
  },
  {
   "cell_type": "code",
   "execution_count": null,
   "metadata": {
    "collapsed": false
   },
   "outputs": [],
   "source": []
  },
  {
   "cell_type": "code",
   "execution_count": null,
   "metadata": {
    "collapsed": true
   },
   "outputs": [],
   "source": []
  }
 ],
 "metadata": {
  "kernelspec": {
   "display_name": "Python 3",
   "language": "python",
   "name": "python3"
  },
  "language_info": {
   "codemirror_mode": {
    "name": "ipython",
    "version": 3
   },
   "file_extension": ".py",
   "mimetype": "text/x-python",
   "name": "python",
   "nbconvert_exporter": "python",
   "pygments_lexer": "ipython3",
   "version": "3.4.1"
  }
 },
 "nbformat": 4,
 "nbformat_minor": 0
}
