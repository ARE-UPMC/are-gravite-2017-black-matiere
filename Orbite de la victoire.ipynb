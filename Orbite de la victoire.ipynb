{
 "cells": [
  {
   "cell_type": "code",
   "execution_count": 1,
   "metadata": {
    "collapsed": false
   },
   "outputs": [
    {
     "name": "stderr",
     "output_type": "stream",
     "text": [
      "Exception in Tkinter callback\n",
      "Traceback (most recent call last):\n",
      "  File \"C:\\Python34\\lib\\tkinter\\__init__.py\", line 1487, in __call__\n",
      "    return self.func(*args)\n",
      "  File \"C:\\Python34\\lib\\tkinter\\__init__.py\", line 535, in callit\n",
      "    self.deletecommand(name)\n",
      "  File \"C:\\Python34\\lib\\tkinter\\__init__.py\", line 394, in deletecommand\n",
      "    self._tclCommands.remove(name)\n",
      "AttributeError: 'NoneType' object has no attribute 'remove'\n",
      "Exception in Tkinter callback\n",
      "Traceback (most recent call last):\n",
      "  File \"C:\\Python34\\lib\\tkinter\\__init__.py\", line 1487, in __call__\n",
      "    return self.func(*args)\n",
      "  File \"C:\\Python34\\lib\\tkinter\\__init__.py\", line 535, in callit\n",
      "    self.deletecommand(name)\n",
      "  File \"C:\\Python34\\lib\\tkinter\\__init__.py\", line 394, in deletecommand\n",
      "    self._tclCommands.remove(name)\n",
      "AttributeError: 'NoneType' object has no attribute 'remove'\n"
     ]
    },
    {
     "ename": "AttributeError",
     "evalue": "'NoneType' object has no attribute 'tk'",
     "output_type": "error",
     "traceback": [
      "\u001b[1;31m---------------------------------------------------------------------------\u001b[0m",
      "\u001b[1;31mAttributeError\u001b[0m                            Traceback (most recent call last)",
      "\u001b[1;32m<ipython-input-1-04752418226b>\u001b[0m in \u001b[0;36m<module>\u001b[1;34m()\u001b[0m\n\u001b[0;32m    107\u001b[0m \u001b[0mplt\u001b[0m\u001b[1;33m.\u001b[0m\u001b[0maxis\u001b[0m\u001b[1;33m(\u001b[0m\u001b[1;34m\"equal\"\u001b[0m\u001b[1;33m)\u001b[0m\u001b[1;33m\u001b[0m\u001b[0m\n\u001b[0;32m    108\u001b[0m \u001b[0mplt\u001b[0m\u001b[1;33m.\u001b[0m\u001b[0mplot\u001b[0m\u001b[1;33m(\u001b[0m\u001b[0mcercle\u001b[0m\u001b[1;33m(\u001b[0m\u001b[1;36m20\u001b[0m\u001b[1;33m,\u001b[0m\u001b[0mnp\u001b[0m\u001b[1;33m.\u001b[0m\u001b[0mpi\u001b[0m\u001b[1;33m/\u001b[0m\u001b[1;36m4\u001b[0m\u001b[1;33m)\u001b[0m\u001b[1;33m,\u001b[0m\u001b[0mcercle\u001b[0m\u001b[1;33m(\u001b[0m\u001b[1;36m40\u001b[0m\u001b[1;33m,\u001b[0m\u001b[0mnp\u001b[0m\u001b[1;33m.\u001b[0m\u001b[0mpi\u001b[0m\u001b[1;33m/\u001b[0m\u001b[1;36m8\u001b[0m\u001b[1;33m)\u001b[0m\u001b[1;33m,\u001b[0m \u001b[0mcercle\u001b[0m\u001b[1;33m(\u001b[0m\u001b[1;36m60\u001b[0m\u001b[1;33m,\u001b[0m\u001b[0mnp\u001b[0m\u001b[1;33m.\u001b[0m\u001b[0mpi\u001b[0m\u001b[1;33m/\u001b[0m\u001b[1;36m16\u001b[0m\u001b[1;33m)\u001b[0m\u001b[1;33m,\u001b[0m \u001b[0mcercle\u001b[0m\u001b[1;33m(\u001b[0m\u001b[1;36m80\u001b[0m\u001b[1;33m,\u001b[0m \u001b[0mnp\u001b[0m\u001b[1;33m.\u001b[0m\u001b[0mpi\u001b[0m\u001b[1;33m/\u001b[0m\u001b[1;36m24\u001b[0m\u001b[1;33m)\u001b[0m\u001b[1;33m)\u001b[0m\u001b[1;33m\u001b[0m\u001b[0m\n\u001b[1;32m--> 109\u001b[1;33m \u001b[0mplt\u001b[0m\u001b[1;33m.\u001b[0m\u001b[0mshow\u001b[0m\u001b[1;33m(\u001b[0m\u001b[1;33m)\u001b[0m\u001b[1;33m\u001b[0m\u001b[0m\n\u001b[0m",
      "\u001b[1;32mC:\\Python34\\lib\\site-packages\\matplotlib\\pyplot.py\u001b[0m in \u001b[0;36mshow\u001b[1;34m(*args, **kw)\u001b[0m\n\u001b[0;32m    153\u001b[0m     \"\"\"\n\u001b[0;32m    154\u001b[0m     \u001b[1;32mglobal\u001b[0m \u001b[0m_show\u001b[0m\u001b[1;33m\u001b[0m\u001b[0m\n\u001b[1;32m--> 155\u001b[1;33m     \u001b[1;32mreturn\u001b[0m \u001b[0m_show\u001b[0m\u001b[1;33m(\u001b[0m\u001b[1;33m*\u001b[0m\u001b[0margs\u001b[0m\u001b[1;33m,\u001b[0m \u001b[1;33m**\u001b[0m\u001b[0mkw\u001b[0m\u001b[1;33m)\u001b[0m\u001b[1;33m\u001b[0m\u001b[0m\n\u001b[0m\u001b[0;32m    156\u001b[0m \u001b[1;33m\u001b[0m\u001b[0m\n\u001b[0;32m    157\u001b[0m \u001b[1;33m\u001b[0m\u001b[0m\n",
      "\u001b[1;32mC:\\Python34\\lib\\site-packages\\matplotlib\\backend_bases.py\u001b[0m in \u001b[0;36m__call__\u001b[1;34m(self, block)\u001b[0m\n\u001b[0;32m    182\u001b[0m \u001b[1;33m\u001b[0m\u001b[0m\n\u001b[0;32m    183\u001b[0m         \u001b[1;32mif\u001b[0m \u001b[1;32mnot\u001b[0m \u001b[0mis_interactive\u001b[0m\u001b[1;33m(\u001b[0m\u001b[1;33m)\u001b[0m \u001b[1;32mor\u001b[0m \u001b[0mget_backend\u001b[0m\u001b[1;33m(\u001b[0m\u001b[1;33m)\u001b[0m \u001b[1;33m==\u001b[0m \u001b[1;34m'WebAgg'\u001b[0m\u001b[1;33m:\u001b[0m\u001b[1;33m\u001b[0m\u001b[0m\n\u001b[1;32m--> 184\u001b[1;33m             \u001b[0mself\u001b[0m\u001b[1;33m.\u001b[0m\u001b[0mmainloop\u001b[0m\u001b[1;33m(\u001b[0m\u001b[1;33m)\u001b[0m\u001b[1;33m\u001b[0m\u001b[0m\n\u001b[0m\u001b[0;32m    185\u001b[0m \u001b[1;33m\u001b[0m\u001b[0m\n\u001b[0;32m    186\u001b[0m     \u001b[1;32mdef\u001b[0m \u001b[0mmainloop\u001b[0m\u001b[1;33m(\u001b[0m\u001b[0mself\u001b[0m\u001b[1;33m)\u001b[0m\u001b[1;33m:\u001b[0m\u001b[1;33m\u001b[0m\u001b[0m\n",
      "\u001b[1;32mC:\\Python34\\lib\\site-packages\\matplotlib\\backends\\backend_tkagg.py\u001b[0m in \u001b[0;36mmainloop\u001b[1;34m(self)\u001b[0m\n\u001b[0;32m     69\u001b[0m \u001b[1;32mclass\u001b[0m \u001b[0mShow\u001b[0m\u001b[1;33m(\u001b[0m\u001b[0mShowBase\u001b[0m\u001b[1;33m)\u001b[0m\u001b[1;33m:\u001b[0m\u001b[1;33m\u001b[0m\u001b[0m\n\u001b[0;32m     70\u001b[0m     \u001b[1;32mdef\u001b[0m \u001b[0mmainloop\u001b[0m\u001b[1;33m(\u001b[0m\u001b[0mself\u001b[0m\u001b[1;33m)\u001b[0m\u001b[1;33m:\u001b[0m\u001b[1;33m\u001b[0m\u001b[0m\n\u001b[1;32m---> 71\u001b[1;33m         \u001b[0mTk\u001b[0m\u001b[1;33m.\u001b[0m\u001b[0mmainloop\u001b[0m\u001b[1;33m(\u001b[0m\u001b[1;33m)\u001b[0m\u001b[1;33m\u001b[0m\u001b[0m\n\u001b[0m\u001b[0;32m     72\u001b[0m \u001b[1;33m\u001b[0m\u001b[0m\n\u001b[0;32m     73\u001b[0m \u001b[0mshow\u001b[0m \u001b[1;33m=\u001b[0m \u001b[0mShow\u001b[0m\u001b[1;33m(\u001b[0m\u001b[1;33m)\u001b[0m\u001b[1;33m\u001b[0m\u001b[0m\n",
      "\u001b[1;32mC:\\Python34\\lib\\tkinter\\__init__.py\u001b[0m in \u001b[0;36mmainloop\u001b[1;34m(n)\u001b[0m\n\u001b[0;32m    354\u001b[0m \u001b[1;32mdef\u001b[0m \u001b[0mmainloop\u001b[0m\u001b[1;33m(\u001b[0m\u001b[0mn\u001b[0m\u001b[1;33m=\u001b[0m\u001b[1;36m0\u001b[0m\u001b[1;33m)\u001b[0m\u001b[1;33m:\u001b[0m\u001b[1;33m\u001b[0m\u001b[0m\n\u001b[0;32m    355\u001b[0m     \u001b[1;34m\"\"\"Run the main loop of Tcl.\"\"\"\u001b[0m\u001b[1;33m\u001b[0m\u001b[0m\n\u001b[1;32m--> 356\u001b[1;33m     \u001b[0m_default_root\u001b[0m\u001b[1;33m.\u001b[0m\u001b[0mtk\u001b[0m\u001b[1;33m.\u001b[0m\u001b[0mmainloop\u001b[0m\u001b[1;33m(\u001b[0m\u001b[0mn\u001b[0m\u001b[1;33m)\u001b[0m\u001b[1;33m\u001b[0m\u001b[0m\n\u001b[0m\u001b[0;32m    357\u001b[0m \u001b[1;33m\u001b[0m\u001b[0m\n\u001b[0;32m    358\u001b[0m \u001b[0mgetint\u001b[0m \u001b[1;33m=\u001b[0m \u001b[0mint\u001b[0m\u001b[1;33m\u001b[0m\u001b[0m\n",
      "\u001b[1;31mAttributeError\u001b[0m: 'NoneType' object has no attribute 'tk'"
     ]
    }
   ],
   "source": [
    "#Animation vitesse/distance centre galactique\n",
    "import numpy as np\n",
    "x1,y1=np.loadtxt('x1.txt',skiprows=1,usecols=(0,1),unpack=True)\n",
    "x1,y1\n",
    "\n",
    "import numpy as np\n",
    "x2,y2=np.loadtxt('x2.txt',skiprows=1,usecols=(0,1),unpack=True)\n",
    "x2,y2\n",
    "\n",
    "import numpy as np\n",
    "from matplotlib import pyplot as plt\n",
    "from matplotlib import animation\n",
    "import matplotlib.pyplot as plt\n",
    "from __future__ import division \n",
    "from scipy import *                  \n",
    "from pylab import * \n",
    "import os\n",
    "\n",
    "def cercle(R,pas):\n",
    "    angle=0\n",
    "    avancement=pas\n",
    "    while angle<2*np.pi:\n",
    "        angle=angle+avancement\n",
    "        x=R*cos(angle)\n",
    "        y=R*sin(angle)\n",
    "        plt.axis([-100,100,-100,100])\n",
    "        plot(x,y,'co')\n",
    "        \n",
    "plt.axis(\"equal\")\n",
    "plt.show()\n",
    "\n",
    "fig = plt.figure()\n",
    "fig.set_dpi(100)\n",
    "fig.set_size_inches(7, 6.5)\n",
    "\n",
    "ax = plt.axes(xlim=(-10, 10), ylim=(-10, 10))\n",
    "\n",
    "size = 4\n",
    "xcenter = 0\n",
    "ycenter = 0\n",
    "radius = 1\n",
    "\n",
    "patch = plt.Circle((0,0), size, fc='b')\n",
    "\n",
    "def init():\n",
    "    ax.add_patch(patch)\n",
    "    return patch,\n",
    "\n",
    "def animate(t):\n",
    "    x, y = patch.center\n",
    "    x = xcenter + 20* np.sin(t*np.pi/4)\n",
    "    y = ycenter + 20 * np.cos(t*np.pi/4)\n",
    "    patch.center = (x, y)\n",
    "    return patch,\n",
    "\n",
    "\n",
    "def animate2(t):\n",
    "    x, y = patch.center\n",
    "    x = xcenter + 40 * np.sin(t*np.pi/8)\n",
    "    y = ycenter + 40 * np.cos(t*np.pi/8)\n",
    "    patch.center = (x, y)\n",
    "    return patch,\n",
    "\n",
    "def animate3(t):\n",
    "    x, y = patch.center\n",
    "    x = xcenter + 60 * np.sin(t*np.pi/16)\n",
    "    y = ycenter + 60 * np.cos(t*np.pi/16)\n",
    "    patch.center = (x, y)\n",
    "    return patch,\n",
    "\n",
    "def animate4(t):\n",
    "    x, y = patch.center\n",
    "    x = xcenter + 80 * np.sin(t*np.pi/24)\n",
    "    y = ycenter + 80 * np.cos(t*np.pi/24)\n",
    "    patch.center = (x, y)\n",
    "    return patch,\n",
    "\n",
    "anim = animation.FuncAnimation(fig, animate, \n",
    "                               init_func=init, \n",
    "                               frames=360, \n",
    "                               interval=20,\n",
    "                               blit=True)\n",
    "\n",
    "anim = animation.FuncAnimation(fig, animate2, \n",
    "                               init_func=init, \n",
    "                               frames=360, \n",
    "                               interval=20,\n",
    "                               blit=True)\n",
    "\n",
    "anim = animation.FuncAnimation(fig, animate3, \n",
    "                               init_func=init, \n",
    "                               frames=360, \n",
    "                               interval=20,\n",
    "                               blit=True)\n",
    "\n",
    "anim = animation.FuncAnimation(fig, animate4, \n",
    "                               init_func=init, \n",
    "                               frames=360, \n",
    "                               interval=20,\n",
    "                              blit=True)\n",
    "\n",
    "\n",
    "\n",
    "\n",
    "\n",
    "\n",
    "plt.axis(\"equal\")\n",
    "plt.plot(cercle(20,np.pi/4),cercle(40,np.pi/8), cercle(60,np.pi/16), cercle(80, np.pi/24))\n",
    "plt.show()"
   ]
  },
  {
   "cell_type": "code",
   "execution_count": 3,
   "metadata": {
    "collapsed": false
   },
   "outputs": [],
   "source": [
    "def coordx(angle,rayon,t):\n",
    "    x=rayon*cos(t*angle)\n",
    "    return x\n",
    "def coordy(angle,rayon,t):\n",
    "    y=rayon*sin(t*angle)\n",
    "    return y"
   ]
  },
  {
   "cell_type": "code",
   "execution_count": 8,
   "metadata": {
    "collapsed": false
   },
   "outputs": [],
   "source": [
    "def xtemps(t):\n",
    "    L=[]\n",
    "    temps=0\n",
    "    for temps in range(0,t):\n",
    "        #nuage 1\n",
    "        x1=20*cos(temps*np.pi/4)\n",
    "        L.append(x1)\n",
    "        #nuage 2\n",
    "        x2=40*cos(temps*np.pi/8)\n",
    "        L.append(x2)\n",
    "        #nuage 3\n",
    "        x3=60*cos(temps*np.pi/16)\n",
    "        L.append(x3)\n",
    "        #nuage 4\n",
    "        x4=80*cos(temps*np.pi/24)\n",
    "        L.append(x4)\n",
    "        \n",
    "    return L\n",
    "        \n",
    "\n",
    "def ytemps(t):\n",
    "    L=[]\n",
    "    temps=0\n",
    "    for temps in range (0,t):\n",
    "        #nuage1\n",
    "        y1=20*sin(temps*np.pi/4)\n",
    "        L.append(y1)\n",
    "        #nuage2\n",
    "        y2=40*sin(temps*np.pi/8)\n",
    "        L.append(y2)\n",
    "        #nuage 3\n",
    "        y3=60*sin(temps*np.pi/16)\n",
    "        L.append(y3)\n",
    "        #nuage4\n",
    "        y4=80*sin(temps*np.pi/24)\n",
    "        L.append(y4)\n",
    "    return L"
   ]
  },
  {
   "cell_type": "code",
   "execution_count": 9,
   "metadata": {
    "collapsed": false
   },
   "outputs": [
    {
     "data": {
      "text/plain": [
       "[20.0,\n",
       " 40.0,\n",
       " 60.0,\n",
       " 80.0,\n",
       " 14.142135623730951,\n",
       " 36.955181300451471,\n",
       " 58.847116824193826,\n",
       " 79.315588909904832,\n",
       " 1.2246467991473533e-15,\n",
       " 28.284271247461902,\n",
       " 55.432771950677207,\n",
       " 77.274066103125463,\n",
       " -14.142135623730949,\n",
       " 15.307337294603593,\n",
       " 49.888176738152715,\n",
       " 73.910362600902943,\n",
       " -20.0,\n",
       " 2.4492935982947065e-15,\n",
       " 42.426406871192853,\n",
       " 69.282032302755098,\n",
       " -14.142135623730955,\n",
       " -15.307337294603588,\n",
       " 33.334213981176134,\n",
       " 63.46826722329881,\n",
       " -3.6739403974420592e-15,\n",
       " -28.284271247461898,\n",
       " 22.961005941905391,\n",
       " 56.568542494923804,\n",
       " 14.142135623730947,\n",
       " -36.955181300451471,\n",
       " 11.7054193209677,\n",
       " 48.700914320697649,\n",
       " 20.0,\n",
       " -40.0,\n",
       " 3.67394039744206e-15,\n",
       " 40.000000000000007,\n",
       " 14.142135623730955,\n",
       " -36.955181300451471,\n",
       " -11.705419320967692,\n",
       " 30.614674589207187]"
      ]
     },
     "execution_count": 9,
     "metadata": {},
     "output_type": "execute_result"
    }
   ],
   "source": [
    "xtemps(10)"
   ]
  },
  {
   "cell_type": "code",
   "execution_count": 13,
   "metadata": {
    "collapsed": false
   },
   "outputs": [
    {
     "data": {
      "text/plain": [
       "(array([  4.00000000e+01,   3.60000000e+01,   2.80000000e+01,\n",
       "          1.50000000e+01,   2.00000000e-15]),\n",
       " array([  0.,  15.,  28.,  36.,  40.]))"
      ]
     },
     "execution_count": 13,
     "metadata": {},
     "output_type": "execute_result"
    }
   ],
   "source": [
    "import numpy as np\n",
    "=np.loadtxt('coordonnees.txt',skiprows=1,usecols=(0,15),unpack=True)\n",
    "V,R"
   ]
  },
  {
   "cell_type": "code",
   "execution_count": 19,
   "metadata": {
    "collapsed": false
   },
   "outputs": [],
   "source": [
    "plt.axis(\"equal\")\n",
    "plt.plot(cercle(20,np.pi/4),cercle(40,np.pi/8), cercle(60,np.pi/16), cercle(80, np.pi/24))\n",
    "import numpy as np\n",
    "x1,y1=np.loadtxt('coordonnees.txt',skiprows=1,usecols=(0,1),unpack=True)\n",
    "x1,y1\n",
    "plt.plot(x1,y1)\n",
    "\n",
    "x2,y2=np.loadtxt('coordonnees.txt',skiprows=1,usecols=(2,3),unpack=True)\n",
    "x2,y2\n",
    "plt.plot(x2,y2)\n",
    "\n",
    "x3,y3=np.loadtxt('coordonnees.txt',skiprows=1,usecols=(4,5),unpack=True)\n",
    "x3,y3\n",
    "plt.plot(x3,y3)\n",
    "\n",
    "x4,y4=np.loadtxt('coordonnees.txt',skiprows=1,usecols=(6,7),unpack=True)\n",
    "x4,y4\n",
    "plt.plot(x4,y4)\n",
    "\n",
    "x5,y5=np.loadtxt('coordonnees.txt',skiprows=1,usecols=(8,9),unpack=True)\n",
    "x5,y5\n",
    "plt.plot(x5,y5)\n",
    "\n",
    "x6,y6=np.loadtxt('coordonnees.txt',skiprows=1,usecols=(10,11),unpack=True)\n",
    "x6,y6\n",
    "plt.plot(x6,y6)\n",
    "\n",
    "x7,y7=np.loadtxt('coordonnees.txt',skiprows=1,usecols=(12,13),unpack=True)\n",
    "x7,y7\n",
    "plt.plot(x7,y7)\n",
    "\n",
    "x8,y8=np.loadtxt('coordonnees.txt',skiprows=1,usecols=(14,15),unpack=True)\n",
    "x8,y8\n",
    "plt.plot(x8,y8)\n",
    "\n",
    "plt.show()"
   ]
  },
  {
   "cell_type": "code",
   "execution_count": 10,
   "metadata": {
    "collapsed": false
   },
   "outputs": [
    {
     "data": {
      "text/plain": [
       "[0.0,\n",
       " 0.0,\n",
       " 0.0,\n",
       " 0.0,\n",
       " 14.142135623730949,\n",
       " 15.307337294603592,\n",
       " 11.705419320967694,\n",
       " 10.442095377604126,\n",
       " 20.0,\n",
       " 28.284271247461898,\n",
       " 22.961005941905388,\n",
       " 20.705523608201659,\n",
       " 14.142135623730951,\n",
       " 36.955181300451471,\n",
       " 33.334213981176134,\n",
       " 30.614674589207183,\n",
       " 2.4492935982947065e-15,\n",
       " 40.0,\n",
       " 42.426406871192846,\n",
       " 39.999999999999993,\n",
       " -14.142135623730949,\n",
       " 36.955181300451471,\n",
       " 49.888176738152715,\n",
       " 48.700914320697649,\n",
       " -20.0,\n",
       " 28.284271247461902,\n",
       " 55.432771950677207,\n",
       " 56.568542494923797,\n",
       " -14.142135623730955,\n",
       " 15.307337294603595,\n",
       " 58.847116824193826,\n",
       " 63.46826722329881,\n",
       " -4.898587196589413e-15,\n",
       " 4.898587196589413e-15,\n",
       " 60.0,\n",
       " 69.282032302755084,\n",
       " 14.142135623730947,\n",
       " -15.307337294603586,\n",
       " 58.847116824193826,\n",
       " 73.910362600902943]"
      ]
     },
     "execution_count": 10,
     "metadata": {},
     "output_type": "execute_result"
    }
   ],
   "source": [
    "ytemps(10)"
   ]
  },
  {
   "cell_type": "code",
   "execution_count": 5,
   "metadata": {
    "collapsed": false
   },
   "outputs": [
    {
     "name": "stdout",
     "output_type": "stream",
     "text": [
      "20.0\n",
      "40.0\n",
      "60.0\n",
      "80.0\n"
     ]
    }
   ],
   "source": [
    "print(coordx(np.pi/4,20,0))\n",
    "print(coordx(np.pi/8,40,0))\n",
    "print(coordx(np.pi/16,60,0))\n",
    "print(coordx(np.pi/24,80,0))"
   ]
  },
  {
   "cell_type": "code",
   "execution_count": 6,
   "metadata": {
    "collapsed": false
   },
   "outputs": [
    {
     "name": "stdout",
     "output_type": "stream",
     "text": [
      "14.1421356237\n",
      "36.9551813005\n",
      "58.8471168242\n",
      "79.3155889099\n"
     ]
    }
   ],
   "source": [
    "print(coordx(np.pi/4,20,1))\n",
    "print(coordx(np.pi/8,40,1))\n",
    "print(coordx(np.pi/16,60,1))\n",
    "print(coordx(np.pi/24,80,1))"
   ]
  },
  {
   "cell_type": "code",
   "execution_count": null,
   "metadata": {
    "collapsed": true
   },
   "outputs": [],
   "source": []
  }
 ],
 "metadata": {
  "kernelspec": {
   "display_name": "Python 3",
   "language": "python",
   "name": "python3"
  },
  "language_info": {
   "codemirror_mode": {
    "name": "ipython",
    "version": 3
   },
   "file_extension": ".py",
   "mimetype": "text/x-python",
   "name": "python",
   "nbconvert_exporter": "python",
   "pygments_lexer": "ipython3",
   "version": "3.4.1"
  }
 },
 "nbformat": 4,
 "nbformat_minor": 0
}
